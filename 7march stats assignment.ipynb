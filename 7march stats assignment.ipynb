{
 "cells": [
  {
   "cell_type": "markdown",
   "id": "9410d484-a46e-472b-8155-ed2fbbdd70cc",
   "metadata": {},
   "source": [
    "Q1. What are the three measures of central tendency?\n",
    "\n",
    "There are three main measures of central tendency: mode. median. mean."
   ]
  },
  {
   "cell_type": "markdown",
   "id": "76d328a5-3547-49f0-b465-621ebf8dfe98",
   "metadata": {},
   "source": [
    "Q2. What is the difference between the mean, median, and mode? How are they used to measure the\n",
    "central tendency of a dataset?\n",
    "\n",
    "The mode is the most frequent value. \n",
    "\n",
    "The median is the middle number in an ordered data set. \n",
    "\n",
    "The mean is the sum of all values divided by the total number of values."
   ]
  },
  {
   "cell_type": "markdown",
   "id": "caaf58dc-276f-4253-b059-47a415c3d387",
   "metadata": {},
   "source": [
    "Q3. Measure the three measures of central tendency for the given height data:\n",
    "    \n",
    "[178,177,176,177,178.2,178,175,179,180,175,178.9,176.2,177,172.5,178,176.5]"
   ]
  },
  {
   "cell_type": "code",
   "execution_count": 1,
   "id": "d8d8ff56-ba25-40aa-ba62-3dfb51415138",
   "metadata": {},
   "outputs": [],
   "source": [
    "data = [178,177,176,177,178.2,178,175,179,180,175,178.9,176.2,177,172.5,178,176.5]"
   ]
  },
  {
   "cell_type": "code",
   "execution_count": 10,
   "id": "8fb2d674-3b8f-4ce8-b91e-073b8564cdab",
   "metadata": {},
   "outputs": [],
   "source": [
    "import numpy as np\n",
    "import statistics as st"
   ]
  },
  {
   "cell_type": "code",
   "execution_count": 11,
   "id": "4c4fdbc1-dfbb-4891-87ea-143a1370f0a6",
   "metadata": {},
   "outputs": [
    {
     "data": {
      "text/plain": [
       "177.01875"
      ]
     },
     "execution_count": 11,
     "metadata": {},
     "output_type": "execute_result"
    }
   ],
   "source": [
    "np.mean(data)"
   ]
  },
  {
   "cell_type": "code",
   "execution_count": 12,
   "id": "c0fe6a42-b25e-4ff1-be35-516e58c1ff7c",
   "metadata": {},
   "outputs": [
    {
     "data": {
      "text/plain": [
       "177.0"
      ]
     },
     "execution_count": 12,
     "metadata": {},
     "output_type": "execute_result"
    }
   ],
   "source": [
    "np.median(data)"
   ]
  },
  {
   "cell_type": "code",
   "execution_count": 14,
   "id": "d7a757a8-824e-49de-9f68-d99b47163db9",
   "metadata": {},
   "outputs": [
    {
     "data": {
      "text/plain": [
       "178"
      ]
     },
     "execution_count": 14,
     "metadata": {},
     "output_type": "execute_result"
    }
   ],
   "source": [
    "st.mode(data)"
   ]
  },
  {
   "cell_type": "markdown",
   "id": "12ec866d-35f0-4939-9eb4-85a86440e576",
   "metadata": {},
   "source": [
    "Q4. Find the standard deviation for the given data:\n",
    "    \n",
    "[178,177,176,177,178.2,178,175,179,180,175,178.9,176.2,177,172.5,178,176.5]"
   ]
  },
  {
   "cell_type": "code",
   "execution_count": 15,
   "id": "c964f891-06d2-47b8-b193-84b15f226bd7",
   "metadata": {},
   "outputs": [],
   "source": [
    "data = [178,177,176,177,178.2,178,175,179,180,175,178.9,176.2,177,172.5,178,176.5]"
   ]
  },
  {
   "cell_type": "code",
   "execution_count": 16,
   "id": "4e4fec93-9c10-49c7-b1ef-03314a36277f",
   "metadata": {},
   "outputs": [
    {
     "data": {
      "text/plain": [
       "1.7885814036548633"
      ]
     },
     "execution_count": 16,
     "metadata": {},
     "output_type": "execute_result"
    }
   ],
   "source": [
    "np.std(data)"
   ]
  },
  {
   "cell_type": "markdown",
   "id": "383ce081-a42f-4a64-a9a2-4e40445bd8b2",
   "metadata": {},
   "source": [
    "Q5. How are measures of dispersion such as range, variance, and standard deviation used to describe\n",
    "the spread of a dataset? Provide an example.\n",
    "\n",
    "Measures of dispersion such as range, variance, and standard deviation are used to describe the spread of a dataset by quantifying how much the data varies from the mean.\n",
    "\n",
    "The range is the difference between the maximum and minimum values in the dataset. It provides a quick estimate of the variability of the data, but it is sensitive to extreme values and may not accurately represent the overall spread of the data.\n",
    "\n",
    "The variance is a more precise measure of the spread of the data, which measures the average of the squared differences from the mean. It is calculated by taking the sum of the squared differences between each data point and the mean, dividing by the total number of data points minus one. A higher variance indicates a wider range of values in the dataset.\n",
    "\n",
    "The standard deviation is the square root of the variance and provides a more easily interpretable measure of the spread of the data. It indicates how far the data values are from the mean. A higher standard deviation indicates that the data points are more spread out from the mean.\n",
    "\n",
    "For example, consider the following dataset of daily sales of a store for a week: 120, 135, 145, 125, 130, 140, 150. The mean of the dataset is (120+135+145+125+130+140+150)/7 = 135. The range is 150 - 120 = 30. The variance is [(120-135)^2 + (135-135)^2 + (145-135)^2 + (125-135)^2 + (130-135)^2 + (140-135)^2 + (150-135)^2]/(7-1) = 225. The standard deviation is the square root of the variance, which is √225 = 15. These measures indicate that the data is not highly variable, and the values are mostly close to the mean."
   ]
  },
  {
   "cell_type": "markdown",
   "id": "96085c11-0ef8-4eec-9fc5-86fd35cd13b5",
   "metadata": {},
   "source": [
    "Q6. What is a Venn diagram?"
   ]
  },
  {
   "cell_type": "markdown",
   "id": "559d3ccf-5e48-4f6e-8447-2e7f1eab5169",
   "metadata": {},
   "source": [
    "A Venn diagram is a widely used diagram style that shows the logical relation between sets, popularized by John Venn (1834–1923) in the 1880s. The diagrams are used to teach elementary set theory, and to illustrate simple set relationships in probability, logic, statistics, linguistics and computer science."
   ]
  },
  {
   "cell_type": "markdown",
   "id": "43340dfb-cce3-40cc-b56a-8b5cad7bcf2e",
   "metadata": {},
   "source": [
    "Q7. For the two given sets A = (2,3,4,5,6,7) & B = (0,2,6,8,10). Find:\n",
    "    \n",
    "(i) A ⋂ B = (2,6)\n",
    "\n",
    "(ii) A ⋃ B = (0,2,3,4,5,6,7,8,10)"
   ]
  },
  {
   "cell_type": "markdown",
   "id": "064900be-8c30-4043-a822-1c4f0f59a3ac",
   "metadata": {},
   "source": [
    "Q8. What do you understand about skewness in data?"
   ]
  },
  {
   "cell_type": "markdown",
   "id": "6ddb57c0-033b-463a-9772-f1bb5c180ccb",
   "metadata": {},
   "source": [
    "Skewness is a measurement of the distortion of symmetrical distribution or asymmetry in a data set. Skewness is demonstrated on a bell curve when data points are not distributed symmetrically to the left and right sides of the median on a bell curve."
   ]
  },
  {
   "cell_type": "markdown",
   "id": "a2ed65fe-e2e8-4914-9db0-a62b2d88edf6",
   "metadata": {},
   "source": [
    "Q9. If a data is right skewed then what will be the position of median with respect to mean?\n",
    "\n",
    "If the distribution of data is skewed to the right, the mode is often less than the median, which is less than the mean."
   ]
  },
  {
   "cell_type": "markdown",
   "id": "d51ca69b-fa13-4961-8648-85e1224e84b5",
   "metadata": {},
   "source": [
    "Q10. Explain the difference between covariance and correlation. How are these measures used in\n",
    "statistical analysis?\n",
    "\n",
    "Covariance is an indicator of the extent to which 2 random variables are dependent on each other. A higher number denotes higher dependency. Correlation is a statistical measure that indicates how strongly two variables are related. The value of covariance lies in the range of -∞ and +∞."
   ]
  },
  {
   "cell_type": "markdown",
   "id": "ac96cac4-74d7-47e7-9fa5-3e19e76e25f5",
   "metadata": {},
   "source": [
    "Q11. What is the formula for calculating the sample mean? Provide an example calculation for a dataset.\n",
    "\n",
    "The general formula for calculating the sample mean is given by x̄ = ( Σ xi ) / n. Here, x̄ represents the sample mean, xi refers all X sample values and n stands for the number of sample terms in the data set."
   ]
  },
  {
   "cell_type": "markdown",
   "id": "1e12719d-9fca-40bd-850b-082aa7494287",
   "metadata": {},
   "source": [
    "Example 1: Find the sample mean of 60, 57, 109, 50.\n",
    "\n",
    "Solution: \n",
    "\n",
    "To find: Sample mean\n",
    "\n",
    "Sum of terms = 60 + 57 + 109 + 50 = 276\n",
    "\n",
    "Number of terms = 4\n",
    "\n",
    "Using sample mean formula,\n",
    "\n",
    "mean = (sum of terms)/(number of terms)\n",
    "\n",
    "mean = 276/4 = 69"
   ]
  },
  {
   "cell_type": "markdown",
   "id": "7de419f5-ffef-4bcc-b1f1-1648667eeea3",
   "metadata": {},
   "source": [
    "Q12. For a normal distribution data what is the relationship between its measure of central tendency?\n",
    "\n",
    "mean mode median all three are nearly equal in case of normal distrubution."
   ]
  },
  {
   "cell_type": "markdown",
   "id": "e5692987-d2ca-4860-9105-097ad0519632",
   "metadata": {},
   "source": [
    "Q13. How is covariance different from correlation?\n",
    "\n",
    "Covariance shows you how the two variables differ, whereas correlation shows you how the two variables are related."
   ]
  },
  {
   "cell_type": "markdown",
   "id": "bceb8efd-d836-4e46-9be8-b91dbf8c52be",
   "metadata": {},
   "source": [
    "Q14. How do outliers affect measures of central tendency and dispersion? Provide an example.\n",
    "\n",
    "In case of mean outliers shift central tendency to a large unit but it do not affect median .\n",
    "\n",
    "set = [1,2,3,4,5,100]\n",
    "\n",
    "mean = 19.5\n",
    "\n",
    "median = 3.5\n",
    "\n",
    "so median is not affected but mean is highly affected and not following the distribution."
   ]
  },
  {
   "cell_type": "code",
   "execution_count": null,
   "id": "4e3dab47-642c-4da9-a649-e0c948fa80d6",
   "metadata": {},
   "outputs": [],
   "source": []
  }
 ],
 "metadata": {
  "kernelspec": {
   "display_name": "Python 3 (ipykernel)",
   "language": "python",
   "name": "python3"
  },
  "language_info": {
   "codemirror_mode": {
    "name": "ipython",
    "version": 3
   },
   "file_extension": ".py",
   "mimetype": "text/x-python",
   "name": "python",
   "nbconvert_exporter": "python",
   "pygments_lexer": "ipython3",
   "version": "3.10.8"
  }
 },
 "nbformat": 4,
 "nbformat_minor": 5
}
