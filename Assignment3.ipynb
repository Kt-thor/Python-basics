{
 "cells": [
  {
   "cell_type": "raw",
   "id": "58f92e9a-a9b2-4e55-bd11-4bff9a3abdff",
   "metadata": {},
   "source": [
    "Q1. Explain with an example each when to use a for loop and a while loop.\n",
    "ans 1 :while loop is used instead of when no od iteration is not known .while loop is used with a conditiob if the condition is satisfied the while loop will continue to loop"
   ]
  },
  {
   "cell_type": "code",
   "execution_count": 1,
   "id": "d2a5ffbc-620c-4f9e-afbf-a5d716883049",
   "metadata": {},
   "outputs": [
    {
     "name": "stdout",
     "output_type": "stream",
     "text": [
      "1\n",
      "4\n",
      "9\n",
      "16\n"
     ]
    }
   ],
   "source": [
    "l  = [1,2,3,4,0,0]\n",
    "i = 0\n",
    "while l[i] > 0:\n",
    "    a = l[i]**2\n",
    "    print(a)\n",
    "    i+=1\n"
   ]
  },
  {
   "cell_type": "code",
   "execution_count": 2,
   "id": "dc7aced8-c8d3-4f04-8445-3819e5d31feb",
   "metadata": {},
   "outputs": [
    {
     "name": "stdout",
     "output_type": "stream",
     "text": [
      "1\n",
      "4\n",
      "9\n",
      "16\n"
     ]
    }
   ],
   "source": [
    Q1. Explain with an example each when to use a for loop and a while loop.\n",
    "ans 1 :while loop is used instead of when no od iteration is not known .while loop is used with a conditiob if the condition is satisfied the while loop will continue to loop"
    "for i in range(len(l)):\n",
    "    if l[i]>0:\n",
    "        print(l[i]**2)"
   ]
  },
  {
   "cell_type": "markdown",
   "id": "2c20f3b0-42ed-445c-843a-0c5f5a95000b",
   "metadata": {},
   "source": [
    "###ans 2 : "
   ]
  },
  {
   "cell_type": "code",
   "execution_count": 3,
   "id": "c21528a6-6cfc-4c4f-8154-bb6ca74a30a5",
   "metadata": {},
   "outputs": [
    {
     "data": {
      "text/plain": [
       "(55, 3628800)"
      ]
     },
     "execution_count": 3,
     "metadata": {},
     "output_type": "execute_result"
    }
   ],
   "source": [
    "# Q2. Write a python program to print the sum and product of the first 10 natural numbers using for\n",
    "# and while loop.\n",
    "n = 10\n",
    "i = 1\n",
    "product = 1\n",
    "s= 0\n",
    "while i <=10:\n",
    "    s= s + i\n",
    "    product = product * i\n",
    "    i+=1\n",
    "\n",
    "s,product"
   ]
  },
  {
   "cell_type": "markdown",
   "id": "c0380ec9-72bd-4c21-b8fd-28b7999a4f4a",
   "metadata": {},
   "source": [
    "ans 3"
   ]
  },
  {
   "cell_type": "code",
   "execution_count": 15,
   "id": "4e5aa4e9-6e87-4f93-8429-0b1e37b463e8",
   "metadata": {},
   "outputs": [
    {
     "name": "stdin",
     "output_type": "stream",
     "text": [
      "Enter the unit :  310\n"
     ]
    },
    {
     "name": "stdout",
     "output_type": "stream",
     "text": [
      "Your bill is : 2250.0\n"
     ]
    }
   ],
   "source": [
    "# Q3. Create a python program to compute the electricity bill for a household.\n",
    "# The per-unit charges in rupees are as follows: For the first 100 units, the user will be charged Rs. 4.5 per\n",
    "# unit, for the next 100 units, the user will be charged Rs. 6 per unit, and for the next 100 units, the user will\n",
    "# be charged Rs. 10 per unit, After 300 units and above the user will be charged Rs. 20 per unit.\n",
    "# You are required to take the units of electricity consumed in a month from the user as input.\n",
    "# Your program must pass this test case: when the unit of electricity consumed by the user in a month is\n",
    "# 310, the total electricity bill should be 2250.\n",
    "\n",
    "unit = int(input(\"Enter the unit : \"))\n",
    "if unit > 300:\n",
    "    x = [100,100,100,unit-300]\n",
    "elif unit > 200 and unit < 301:\n",
    "    x = [100,100,unit-200]\n",
    "elif unit>100 and unit <201:\n",
    "    x = [100,unit-100]\n",
    "elif unit <= 100:\n",
    "    x = unit\n",
    "\n",
    "if len(x) == 1:\n",
    "    print(\"Your bill is :\",x[0] * 4.5)\n",
    "elif len(x) == 2:\n",
    "    print(\"Your bill is :\",x[0]* 4.5 + x[1]*6)\n",
    "elif x ==3:\n",
    "    print(\"Your bill is :\",x[0]* 4.5 + x[1]*6 + x[2] *10)\n",
    "else :\n",
    "    print(\"Your bill is :\",x[0]* 4.5 + x[1]*6 + x[2] *10 + x[3]*20)"
   ]
  },
  {
   "cell_type": "markdown",
   "id": "550fe5e8-0853-4cc1-8e4b-39fddcc03f12",
   "metadata": {},
   "source": [
    "ans 4"
   ]
  },
  {
   "cell_type": "code",
   "execution_count": 26,
   "id": "be942e80-b219-44de-ac34-1a18d4bfef94",
   "metadata": {},
   "outputs": [
    {
     "data": {
      "text/plain": [
       "([8,\n",
       "  64,\n",
       "  125,\n",
       "  216,\n",
       "  512,\n",
       "  1000,\n",
       "  1728,\n",
       "  2744,\n",
       "  3375,\n",
       "  4096,\n",
       "  5832,\n",
       "  8000,\n",
       "  10648,\n",
       "  13824,\n",
       "  15625,\n",
       "  17576,\n",
       "  21952,\n",
       "  27000,\n",
       "  32768,\n",
       "  39304,\n",
       "  42875,\n",
       "  46656,\n",
       "  54872,\n",
       "  64000,\n",
       "  74088,\n",
       "  85184,\n",
       "  91125,\n",
       "  97336,\n",
       "  110592,\n",
       "  125000,\n",
       "  140608,\n",
       "  157464,\n",
       "  166375,\n",
       "  175616,\n",
       "  195112,\n",
       "  216000,\n",
       "  238328,\n",
       "  262144,\n",
       "  274625,\n",
       "  287496,\n",
       "  314432,\n",
       "  343000,\n",
       "  373248,\n",
       "  405224,\n",
       "  421875,\n",
       "  438976,\n",
       "  474552,\n",
       "  512000,\n",
       "  551368,\n",
       "  592704,\n",
       "  614125,\n",
       "  636056,\n",
       "  681472,\n",
       "  729000,\n",
       "  778688,\n",
       "  830584,\n",
       "  857375,\n",
       "  884736,\n",
       "  941192,\n",
       "  1000000],\n",
       " [8,\n",
       "  64,\n",
       "  125,\n",
       "  216,\n",
       "  512,\n",
       "  1000,\n",
       "  1728,\n",
       "  2744,\n",
       "  3375,\n",
       "  4096,\n",
       "  5832,\n",
       "  8000,\n",
       "  10648,\n",
       "  13824,\n",
       "  15625,\n",
       "  17576,\n",
       "  21952,\n",
       "  27000,\n",
       "  32768,\n",
       "  39304,\n",
       "  42875,\n",
       "  46656,\n",
       "  54872,\n",
       "  64000,\n",
       "  74088,\n",
       "  85184,\n",
       "  91125,\n",
       "  97336,\n",
       "  110592,\n",
       "  125000,\n",
       "  140608,\n",
       "  157464,\n",
       "  166375,\n",
       "  175616,\n",
       "  195112,\n",
       "  216000,\n",
       "  238328,\n",
       "  262144,\n",
       "  274625,\n",
       "  287496,\n",
       "  314432,\n",
       "  343000,\n",
       "  373248,\n",
       "  405224,\n",
       "  421875,\n",
       "  438976,\n",
       "  474552,\n",
       "  512000,\n",
       "  551368,\n",
       "  592704,\n",
       "  614125,\n",
       "  636056,\n",
       "  681472,\n",
       "  729000,\n",
       "  778688,\n",
       "  830584,\n",
       "  857375,\n",
       "  884736,\n",
       "  941192,\n",
       "  1000000])"
      ]
     },
     "execution_count": 26,
     "metadata": {},
     "output_type": "execute_result"
    }
   ],
   "source": [
    "# Q4. Create a list of numbers from 1 to 100. Use for loop and while loop to calculate the cube of each\n",
    "# number and if the cube of that number is divisible by 4 or 5 then append that number in a list and print\n",
    "# that list.\n",
    "\n",
    "a = []\n",
    "for i in range(1,101):\n",
    "    a.append(i)\n",
    "l1 = []  \n",
    "for i in a:\n",
    "    n = i**3\n",
    "    if n % 4 ==0 or n % 5 == 0:\n",
    "        l1.append(n)\n",
    "i = 0\n",
    "l2 = []\n",
    "while i < 100:\n",
    "    p = a[i]**3\n",
    "    if p % 4 == 0 or p % 5 == 0 :\n",
    "        l2.append(p)\n",
    "    i+=1\n",
    "    \n",
    "    \n",
    "l1,l2"
   ]
  },
  {
   "cell_type": "code",
   "execution_count": 33,
   "id": "bade0257-9319-4601-8fa2-51cb662c9086",
   "metadata": {},
   "outputs": [
    {
     "data": {
      "text/plain": [
       "12"
      ]
     },
     "execution_count": 33,
     "metadata": {},
     "output_type": "execute_result"
    }
   ],
   "source": [
    "# Q5. Write a program to filter count vowels in the below-given string.\n",
    "string = \"I want to become a data scientist\"\n",
    "vowel = list(filter(lambda x : x == 'a'or x =='A' or x == 'e'or x =='E' or x == 'i'or x =='I' or x == 'o'or x =='O' or x == 'u'or x =='U',string))\n",
    "len(vowel)"
   ]
  },
  {
   "cell_type": "code",
   "execution_count": null,
   "id": "a1e741cf-5677-400f-af68-d414b2b9ead8",
   "metadata": {},
   "outputs": [],
   "source": []
  }
 ],
 "metadata": {
  "kernelspec": {
   "display_name": "Python 3 (ipykernel)",
   "language": "python",
   "name": "python3"
  },
  "language_info": {
   "codemirror_mode": {
    "name": "ipython",
    "version": 3
   },
   "file_extension": ".py",
   "mimetype": "text/x-python",
   "name": "python",
   "nbconvert_exporter": "python",
   "pygments_lexer": "ipython3",
   "version": "3.10.8"
  }
 },
 "nbformat": 4,
 "nbformat_minor": 5
}
