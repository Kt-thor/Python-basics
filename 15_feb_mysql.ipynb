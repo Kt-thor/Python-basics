{
 "cells": [
  {
   "cell_type": "markdown",
   "id": "67c286fe-6814-4fda-b4b1-4d9205c6167a",
   "metadata": {},
   "source": [
    "Q1. What is a database? Differentiate between SQL and NoSQL databases.\n",
    "\n",
    "\n",
    "A database is an organized collection of structured information, or data, typically stored electronically in a computer system.\n",
    "\n",
    "SQL databases are primarily called as Relational Databases (RDBMS); whereas NoSQL database are primarily called as non-relational or distributed database. \n",
    "\n",
    "SQL is one of the most versatile and widely-used options available which makes it a safe choice especially for great complex queries. But from other side it can be restrictive. SQL requires you to use predefined schemas to determine the structure of your data before you work with it. Also all of your data must follow the same structure. This can require significant up-front preparation which means that a change in the structure would be both difficult and disruptive to your whole system. \n",
    "\n",
    "A NoSQL database has dynamic schema for unstructured data. Data is stored in many ways which means it can be document-oriented, column-oriented, graph-based or organized as a KeyValue store. This flexibility means that documents can be created without having defined structure first. "
   ]
  },
  {
   "cell_type": "markdown",
   "id": "348447da-ab7c-4dcf-a4e4-a4cb6a6749d6",
   "metadata": {},
   "source": [
    "Q2. What is DDL? Explain why CREATE, DROP, ALTER, and TRUNCATE are used with an example."
   ]
  },
  {
   "cell_type": "markdown",
   "id": "1f412602-a6dc-427c-81df-864d51e98c0a",
   "metadata": {},
   "source": [
    "DDL refers to the data definition language.\n",
    "\n",
    "Create : is used to create database,tables\n",
    "\n",
    "eg.\n",
    "\n",
    "    create table test_table(id int,name varchar(10),salary int);\n",
    "    \n",
    "drop : is used to delete the table and databases\n",
    "\n",
    "eg.\n",
    "    \n",
    "    drop table test;\n",
    "    \n",
    "alter : is used to modify the column values and datatype of columns\n",
    "\n",
    "eg.\n",
    "    \n",
    "    alter table test drop name ;\n",
    "    \n",
    "truncate :it temporarily deletes the data \n",
    "\n",
    "eg.\n",
    "\n",
    "    truncate from test;\n",
    "\n",
    "\n"
   ]
  },
  {
   "cell_type": "markdown",
   "id": "fd00eb20-1059-495b-98dd-f1718955bc1a",
   "metadata": {},
   "source": [
    "Q3. What is DML? Explain INSERT, UPDATE, and DELETE with an example."
   ]
  },
  {
   "cell_type": "markdown",
   "id": "b8cfc769-bd80-40e3-ac5c-a2462a6daf8e",
   "metadata": {},
   "source": [
    "DML refers to Data manipulation language. used to insert,update or delete the records from a table.\n",
    "\n",
    "INSERT : used to insert data in a table\n",
    "\n",
    "eg.\n",
    "\n",
    "    insert into test(1,'Prabhat',20000);\n",
    "\n",
    "UPDATE : update the records\n",
    "\n",
    "eg.\n",
    "\n",
    "    update test set name = 'Kaushal' where id = 1;\n",
    "    \n",
    "Delete : deletes the record\n",
    "\n",
    "eg.\n",
    "   \n",
    "   delete from test where id = 1;"
   ]
  },
  {
   "cell_type": "markdown",
   "id": "9d91e200-7841-4b85-ab00-4ee23b67b47e",
   "metadata": {},
   "source": [
    "Q4. What is DQL? Explain SELECT with an example."
   ]
  },
  {
   "cell_type": "markdown",
   "id": "e8a2100f-5e5c-4c5d-8838-91a8db562edc",
   "metadata": {},
   "source": [
    "Query languages, often known as DQLs or Data Query Languages, are computer languages that are used to make various queries in information systems and databases.\n",
    "\n",
    "Select : SELECT statement is used to select data from a database.\n",
    "\n",
    "eg.\n",
    "\n",
    "    select * from test;"
   ]
  },
  {
   "cell_type": "markdown",
   "id": "662a430a-b4a0-4d24-b019-4f1171505b87",
   "metadata": {},
   "source": [
    "Q5. Explain Primary Key and Foreign Key.\n",
    "\n",
    "A relational database is designed to enforce the uniqueness of primary keys by allowing only one row with a given primary key value in a table. A foreign key is a column or a set of columns in a table whose values correspond to the values of the primary key in another table."
   ]
  },
  {
   "cell_type": "markdown",
   "id": "4488c7fd-348f-4d1f-9f77-e7e18631d516",
   "metadata": {},
   "source": [
    "Q6. Write a python code to connect MySQL to python. Explain the cursor() and execute() method."
   ]
  },
  {
   "cell_type": "markdown",
   "id": "25254653-9cad-48d1-8bda-ca61a8080608",
   "metadata": {},
   "source": [
    "import mysql.connector\n",
    "\n",
    "\n",
    "mydb = mysql.connector.connect(\n",
    "\n",
    "    host=\"localhost\",\n",
    "\n",
    "    user=\"abc\",\n",
    "\n",
    "    password=\"password\"\n",
    ")\n",
    "mycursor = mydb.cursor()\n",
    "\n",
    "mycursor.execute(\"select * from company.employee;\")\n",
    "\n",
    "\n",
    "for i in mycursor.fetchall():\n",
    "    \n",
    "    print(i)\n",
    "\n",
    "mydb.close()\n"
   ]
  },
  {
   "cell_type": "markdown",
   "id": "a75aaf49-6424-46bb-85e1-ba16a1a34f80",
   "metadata": {},
   "source": [
    "cursor() : The MySQLCursor of mysql-connector-python (and similar libraries) is used to execute statements to communicate with the MySQL database. Using the methods of it you can execute SQL statements, fetch data from the result sets, call procedures.\n",
    "\n",
    "execute() : The EXECUTE statement/command is used to execute the prepared statement.\n",
    "\n"
   ]
  },
  {
   "cell_type": "markdown",
   "id": "df379895-2b3a-47e0-8262-e3561350ae52",
   "metadata": {},
   "source": [
    "Q7. Give the order of execution of SQL clauses in an SQL query."
   ]
  },
  {
   "cell_type": "markdown",
   "id": "67162454-a65e-487b-9d51-54f7bb356de8",
   "metadata": {},
   "source": [
    "SELECT O.name,\n",
    "\t(P.price * O.quantity) AS total_spent\n",
    "FROM Orders O\n",
    "JOIN Products P\n",
    "\tON O.product_id = P.id\n",
    "WHERE P.price * O.quantity < 50\n",
    "ORDER BY total_spent DESC\n",
    "\n"
   ]
  },
  {
   "cell_type": "code",
   "execution_count": null,
   "id": "3331a822-e92b-46e5-a60f-24f724590610",
   "metadata": {},
   "outputs": [],
   "source": []
  }
 ],
 "metadata": {
  "kernelspec": {
   "display_name": "Python 3 (ipykernel)",
   "language": "python",
   "name": "python3"
  },
  "language_info": {
   "codemirror_mode": {
    "name": "ipython",
    "version": 3
   },
   "file_extension": ".py",
   "mimetype": "text/x-python",
   "name": "python",
   "nbconvert_exporter": "python",
   "pygments_lexer": "ipython3",
   "version": "3.10.8"
  }
 },
 "nbformat": 4,
 "nbformat_minor": 5
}
