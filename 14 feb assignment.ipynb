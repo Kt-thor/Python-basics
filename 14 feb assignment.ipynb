{
 "cells": [
  {
   "cell_type": "markdown",
   "id": "77b303bc-ea19-495a-a222-3acb184b67ea",
   "metadata": {},
   "source": [
    "1 :what is multithreading in python? why is it used? Name the module used to handle threads in python\n",
    "\n",
    "The CPUs allow execution of multiple threads/ tasks at a time independently. These threads contain their own register set and local variables. Since these threads under a process are in the same data space, they can share global variables and the code.\n",
    "\n",
    "module for multithreading is : threading "
   ]
  },
  {
   "cell_type": "markdown",
   "id": "a9e57555-ef6d-43e5-ac5b-83de94fcdcb1",
   "metadata": {},
   "source": [
    "2 :why threading module used? write the use of the following functions\n",
    "     \n",
    "     activeCount()\n",
    "     \n",
    "     currentThread()\n",
    "     \n",
    "     enumerate()"
   ]
  },
  {
   "cell_type": "markdown",
   "id": "65d47de8-1177-4569-ae82-b3eed4f8ede5",
   "metadata": {},
   "source": [
    "you can write applications that perform multiple operations at the same time. Operations with the potential of holding up other operations can execute on separate threads, a process known as multithreading or free threading.\n",
    "\n",
    "threading.activeCount() − Returns the number of thread objects that are active.\n",
    "\n",
    "threading.currentThread() − Returns the number of thread objects in the caller's thread control.\n",
    "\n",
    "threading.enumerate() − Returns a list of all thread objects that are currently active."
   ]
  },
  {
   "cell_type": "markdown",
   "id": "e63a4829-314d-4ad1-81fb-55571c274349",
   "metadata": {},
   "source": [
    "3. Explain the following functions\n",
    "run()\n",
    "start()\n",
    "join()\n",
    "isAlive()"
   ]
  },
  {
   "cell_type": "markdown",
   "id": "0195cee8-b413-435f-82e0-f1d80ef4d6b4",
   "metadata": {},
   "source": [
    "run()  − The run() method is the entry point for a thread.\n",
    "\n",
    "start()  − The start() method starts a thread by calling the run method.\n",
    "\n",
    "join([time])  − The join() waits for threads to terminate.\n",
    "\n",
    "isAlive()  − The isAlive() method checks whether a thread is still executing.\n"
   ]
  },
  {
   "cell_type": "code",
   "execution_count": 1,
   "id": "a0ba0456-5361-4d17-8049-c2dc9203058a",
   "metadata": {},
   "outputs": [],
   "source": [
    "def square(x):\n",
    "    print(x**2,end= \" \")"
   ]
  },
  {
   "cell_type": "code",
   "execution_count": 3,
   "id": "b5ab2255-b60a-4a6d-ad8d-d3370a36960b",
   "metadata": {},
   "outputs": [
    {
     "name": "stdin",
     "output_type": "stream",
     "text": [
      "Enter the Number to print cube of number : 10\n"
     ]
    }
   ],
   "source": [
    "import threading\n",
    "n = int(input(\"Enter the Number to print cube of number :\"))\n",
    "thread1 = [threading.Thread(target= square,args=(i,)) for i in range(1,n)]"
   ]
  },
  {
   "cell_type": "code",
   "execution_count": 4,
   "id": "1548e6d8-c197-4582-851c-f979df655b0a",
   "metadata": {},
   "outputs": [
    {
     "name": "stdout",
     "output_type": "stream",
     "text": [
      "1 4 9 16 25 36 49 64 81 "
     ]
    }
   ],
   "source": [
    "for i in thread1:\n",
    "    i.start()"
   ]
  },
  {
   "cell_type": "code",
   "execution_count": 5,
   "id": "12557477-cad6-42a7-b85f-4099417098bf",
   "metadata": {},
   "outputs": [],
   "source": [
    "def cube(x):\n",
    "    print(x**3,end=\" \")"
   ]
  },
  {
   "cell_type": "code",
   "execution_count": 6,
   "id": "d07091c2-07b4-4ef6-8880-47608a4b36c8",
   "metadata": {},
   "outputs": [
    {
     "name": "stdin",
     "output_type": "stream",
     "text": [
      "input a number to print the cube of list untill :  10\n"
     ]
    }
   ],
   "source": [
    "n = int(input(\"input a number to print the cube of list untill : \"))\n",
    "thread2 = [threading.Thread(target = cube,args=(i,)) for i in range(n)]\n"
   ]
  },
  {
   "cell_type": "code",
   "execution_count": 7,
   "id": "3a1f0b43-bc6c-40fd-adab-7b2fff6f6493",
   "metadata": {},
   "outputs": [
    {
     "name": "stdout",
     "output_type": "stream",
     "text": [
      "0 1 8 27 64 125 216 343 512 729 "
     ]
    }
   ],
   "source": [
    "for t in thread2:\n",
    "    t.start()"
   ]
  },
  {
   "cell_type": "markdown",
   "id": "864d9ad0-fced-4ff9-8901-b7a25e34f9d2",
   "metadata": {},
   "source": [
    "5. State advantages and disadvantages of multithreading"
   ]
  },
  {
   "cell_type": "markdown",
   "id": "5b1a6bc2-ec28-4f37-ba43-cfc9557d6e8c",
   "metadata": {},
   "source": [
    "Advantages :\n",
    "    \n",
    "1: Enhanced performance by decreased development time\n",
    "\n",
    "2: Simplified and streamlined program coding\n",
    "\n",
    "3: Improvised GUI responsiveness\n",
    "\n",
    "4: Simultaneous and parallelized occurrence of tasks\n",
    "\n",
    "5: Better use of cache storage by utilization of resources\n",
    "\n",
    "6: Decreased cost of maintenance\n",
    "\n",
    "7: Better use of CPU resource\n",
    "\n",
    "Disadvantages :\n",
    "\n",
    "1: Complex debugging and testing processes\n",
    "\n",
    "2: Overhead switching of context\n",
    "\n",
    "3: Increased potential for deadlock occurrence\n",
    "\n",
    "4: Increased difficulty level in writing a program\n",
    "\n",
    "5: Unpredictable results"
   ]
  },
  {
   "cell_type": "markdown",
   "id": "0a4aa6b6-9bb1-4e2d-b4c9-84932999d8ae",
   "metadata": {},
   "source": [
    "Ques6 : Explain deadlocks and race conditions.\n",
    "\n"
   ]
  },
  {
   "cell_type": "markdown",
   "id": "aed1b021-14ef-49a2-9691-911e425939b3",
   "metadata": {},
   "source": [
    "A race condition occurs when two threads access a shared variable at the same time. The first thread reads the variable, and the second thread reads the same value from the variable. Then the first thread and second thread perform their operations on the value, and they race to see which thread can write the value last to the shared variable. The value of the thread that writes its value last is preserved, because the thread is writing over the value that the previous thread wrote.\n",
    "\n",
    "A deadlock occurs when two threads each lock a different variable at the same time and then try to lock the variable that the other thread already locked. As a result, each thread stops executing and waits for the other thread to release the variable. Because each thread is holding the variable that the other thread wants, nothing occurs, and the threads remain deadlocked."
   ]
  },
  {
   "cell_type": "markdown",
   "id": "55d0f5f1-f862-4603-aba6-03bd34a06359",
   "metadata": {},
   "source": [
    "# "
   ]
  }
 ],
 "metadata": {
  "kernelspec": {
   "display_name": "Python 3 (ipykernel)",
   "language": "python",
   "name": "python3"
  },
  "language_info": {
   "codemirror_mode": {
    "name": "ipython",
    "version": 3
   },
   "file_extension": ".py",
   "mimetype": "text/x-python",
   "name": "python",
   "nbconvert_exporter": "python",
   "pygments_lexer": "ipython3",
   "version": "3.10.8"
  }
 },
 "nbformat": 4,
 "nbformat_minor": 5
}
