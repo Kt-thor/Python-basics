{
 "cells": [
  {
   "cell_type": "markdown",
   "id": "0106dc95-dedd-43ab-9dae-6ed1de85d71b",
   "metadata": {},
   "source": [
    "Q1, Create a vehicle class with an init method having instance variables as name_of_vehicle, max_speed\n",
    "and average_of_vehicle."
   ]
  },
  {
   "cell_type": "code",
   "execution_count": 8,
   "id": "4a58d1c1-9f0d-4005-9c66-5e024bd1937d",
   "metadata": {},
   "outputs": [],
   "source": [
    "class Vehicle:\n",
    "    def __init__(self,name_of_vehicle, max_speed,average_of_vehicle):\n",
    "        self.name_of_vehicle = name_of_vehicle\n",
    "        self.max_speed = max_speed\n",
    "        self.average_of_vehicle = average_of_vehicle"
   ]
  },
  {
   "cell_type": "markdown",
   "id": "e3fe8d40-a2b0-458c-90ea-a16cbb56a27f",
   "metadata": {},
   "source": [
    "Q2. Create a child class car from the vehicle class created in Que 1, which will inherit the vehicle class.\n",
    "Create a method named seating_capacity which takes capacity as an argument and returns the name of\n",
    "the vehicle and its seating capacity."
   ]
  },
  {
   "cell_type": "code",
   "execution_count": 12,
   "id": "73899bfa-bc39-4548-9f06-a1d27920cc04",
   "metadata": {},
   "outputs": [],
   "source": [
    "class Car(Vehicle):\n",
    "    def seating_capacity(self,capacity):\n",
    "        return f\"car name is {self.name_of_vehicle} and seating capacity is {capacity}\""
   ]
  },
  {
   "cell_type": "code",
   "execution_count": 13,
   "id": "41792355-6f88-4500-a225-52d49d214c83",
   "metadata": {},
   "outputs": [],
   "source": [
    "car1 = Car(\"Fortuner\",200,10)"
   ]
  },
  {
   "cell_type": "code",
   "execution_count": 14,
   "id": "acdd0c64-5527-4509-aaa4-a2def8852a82",
   "metadata": {},
   "outputs": [
    {
     "data": {
      "text/plain": [
       "'car name is Fortuner and seating capacity is 20'"
      ]
     },
     "execution_count": 14,
     "metadata": {},
     "output_type": "execute_result"
    }
   ],
   "source": [
    "car1.seating_capacity(20)"
   ]
  },
  {
   "cell_type": "markdown",
   "id": "bc0cfa97-4708-4bdd-8973-b49f2cf5dbd3",
   "metadata": {},
   "source": [
    "Q3. What is multiple inheritance? Write a python code to demonstrate multiple inheritance."
   ]
  },
  {
   "cell_type": "markdown",
   "id": "0febfc38-c9a9-44f4-80e4-ae3717505f72",
   "metadata": {},
   "source": [
    "Ans :Multiple Inheritance \n",
    "When a class is derived from more than one base class it is called multiple Inheritance. The derived class inherits all the features of the base case.\n",
    " "
   ]
  },
  {
   "cell_type": "code",
   "execution_count": 15,
   "id": "19a29aca-29d7-46fe-86f5-6edfe30b0569",
   "metadata": {},
   "outputs": [],
   "source": [
    "class clas1:\n",
    "    def c1_message(self):\n",
    "        return \"Hi i am from class 1\"\n",
    "class clas2:\n",
    "    def c2_message(self):\n",
    "        return \"Hi i am from class 2\"\n",
    "class clas3(clas1,clas2):\n",
    "    pass\n",
    "\n",
    "obj = clas3()\n",
    "        "
   ]
  },
  {
   "cell_type": "code",
   "execution_count": 17,
   "id": "22d188ba-9b07-4764-9656-596d64112cbb",
   "metadata": {},
   "outputs": [
    {
     "data": {
      "text/plain": [
       "'Hi i am from class 1'"
      ]
     },
     "execution_count": 17,
     "metadata": {},
     "output_type": "execute_result"
    }
   ],
   "source": [
    "obj.c1_message()"
   ]
  },
  {
   "cell_type": "code",
   "execution_count": 19,
   "id": "96a9c6ce-cf04-47d9-a318-607c0e85c6ee",
   "metadata": {},
   "outputs": [
    {
     "data": {
      "text/plain": [
       "'Hi i am from class 2'"
      ]
     },
     "execution_count": 19,
     "metadata": {},
     "output_type": "execute_result"
    }
   ],
   "source": [
    "obj.c2_message()"
   ]
  },
  {
   "cell_type": "markdown",
   "id": "ff5e3be1-cf2a-47e0-8af9-95195161253a",
   "metadata": {},
   "source": [
    "Q4. What are getter and setter in python? Create a class and create a getter and a setter method in this\n",
    "class."
   ]
  },
  {
   "cell_type": "markdown",
   "id": "070dd401-004c-4164-a312-99f978054984",
   "metadata": {},
   "source": [
    "getters and setters are not the same as those in other object-oriented programming languages. Basically, the main purpose of using getters and setters in object-oriented programs is to ensure data encapsulation. Private variables in python are not actually hidden fields like in other object oriented languages. Getters and Setters in python are often used when:\n",
    "\n",
    "1 :We use getters & setters to add validation logic around getting and setting a value.\n",
    "\n",
    "2 :To avoid direct access of a class field i.e. private variables cannot be accessed directly or modified by external user."
   ]
  },
  {
   "cell_type": "code",
   "execution_count": 1,
   "id": "1f055744-3c59-46d2-80ac-53b763297076",
   "metadata": {},
   "outputs": [],
   "source": [
    "class Person:\n",
    "    def __init__(self):\n",
    "        self.__age = 0\n",
    "    \n",
    "    def getter_method(self):\n",
    "        return self.__age\n",
    "    \n",
    "    def setter_method(self,age):\n",
    "        self.__age = age\n",
    "        \n",
    "obj = Person()"
   ]
  },
  {
   "cell_type": "code",
   "execution_count": 2,
   "id": "b58bccfc-366c-4b53-a137-0119b73a9c04",
   "metadata": {},
   "outputs": [],
   "source": [
    "obj.setter_method(100) #calling setter "
   ]
  },
  {
   "cell_type": "code",
   "execution_count": 4,
   "id": "b4f8e6ee-c360-436e-a0b4-a7252613e912",
   "metadata": {},
   "outputs": [
    {
     "data": {
      "text/plain": [
       "100"
      ]
     },
     "execution_count": 4,
     "metadata": {},
     "output_type": "execute_result"
    }
   ],
   "source": [
    "obj.getter_method()#calling getter"
   ]
  },
  {
   "cell_type": "markdown",
   "id": "6fe64b68-0313-4c38-a05e-df5dd126139d",
   "metadata": {},
   "source": [
    "Q5.What is method overriding in python? Write a python code to demonstrate method overriding."
   ]
  },
  {
   "cell_type": "markdown",
   "id": "d69836ee-5923-4a8a-9a1c-f07a63fdf0ef",
   "metadata": {},
   "source": [
    "Method overriding is an ability of any object-oriented programming language that allows a subclass or child class to provide a specific implementation of a method that is already provided by one of its super-classes or parent classes. When a method in a subclass has the same name, same parameters or signature and same return type(or sub-type) as a method in its super-class, then the method in the subclass is said to override the method in the super-class.\n",
    "The version of a method that is executed will be determined by the object that is used to invoke it. If an object of a parent class is used to invoke the method, then the version in the parent class will be executed, but if an object of the subclass is used to invoke the method, then the version in the child class will be executed. In other words, it is the type of the object being referred to (not the type of the reference variable) that determines which version of an overridden method will be executed.\n",
    "\n"
   ]
  },
  {
   "cell_type": "code",
   "execution_count": 6,
   "id": "b0ef2799-9f7c-45b0-87c9-871e851a4565",
   "metadata": {},
   "outputs": [
    {
     "data": {
      "text/plain": [
       "('this is invoke of child class', 'this is invoke of parent class')"
      ]
     },
     "execution_count": 6,
     "metadata": {},
     "output_type": "execute_result"
    }
   ],
   "source": [
    "class Parent:\n",
    "    def invoke(self):\n",
    "        return \"this is invoke of parent class\"\n",
    "\n",
    "class Child(Parent):\n",
    "    def invoke(self):\n",
    "        return \"this is invoke of child class\"\n",
    "    \n",
    "child_obj = Child()\n",
    "parent_obj = Parent()\n",
    "\n",
    "child_obj.invoke(),parent_obj.invoke()"
   ]
  },
  {
   "cell_type": "code",
   "execution_count": null,
   "id": "152c52c5-7f55-47bc-bc6f-5280dcba3110",
   "metadata": {},
   "outputs": [],
   "source": []
  }
 ],
 "metadata": {
  "kernelspec": {
   "display_name": "Python 3 (ipykernel)",
   "language": "python",
   "name": "python3"
  },
  "language_info": {
   "codemirror_mode": {
    "name": "ipython",
    "version": 3
   },
   "file_extension": ".py",
   "mimetype": "text/x-python",
   "name": "python",
   "nbconvert_exporter": "python",
   "pygments_lexer": "ipython3",
   "version": "3.10.8"
  }
 },
 "nbformat": 4,
 "nbformat_minor": 5
}
