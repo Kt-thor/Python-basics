{
 "cells": [
  {
   "cell_type": "code",
   "execution_count": 1,
   "id": "0d1127e8-eb25-4318-9a7a-92a39b881e7b",
   "metadata": {},
   "outputs": [],
   "source": [
    "import pandas as pd\n",
    "course_name = ['Data Science', 'Machine Learning', 'Big Data', 'Data Engineer']\n",
    "duration = [2,3,6,4]\n",
    "df = pd.DataFrame(data = {'course_name' : course_name, 'duration' : duration})"
   ]
  },
  {
   "cell_type": "markdown",
   "id": "062476b1-9201-42ae-aaa0-7fd0dc3c6432",
   "metadata": {},
   "source": [
    "Q1. Write a code to print the data present in the second row of the dataframe, df."
   ]
  },
  {
   "cell_type": "code",
   "execution_count": 2,
   "id": "b0c44972-0b12-487a-b365-67396f1efbae",
   "metadata": {},
   "outputs": [
    {
     "data": {
      "text/html": [
       "<div>\n",
       "<style scoped>\n",
       "    .dataframe tbody tr th:only-of-type {\n",
       "        vertical-align: middle;\n",
       "    }\n",
       "\n",
       "    .dataframe tbody tr th {\n",
       "        vertical-align: top;\n",
       "    }\n",
       "\n",
       "    .dataframe thead th {\n",
       "        text-align: right;\n",
       "    }\n",
       "</style>\n",
       "<table border=\"1\" class=\"dataframe\">\n",
       "  <thead>\n",
       "    <tr style=\"text-align: right;\">\n",
       "      <th></th>\n",
       "      <th>course_name</th>\n",
       "      <th>duration</th>\n",
       "    </tr>\n",
       "  </thead>\n",
       "  <tbody>\n",
       "    <tr>\n",
       "      <th>2</th>\n",
       "      <td>Big Data</td>\n",
       "      <td>6</td>\n",
       "    </tr>\n",
       "  </tbody>\n",
       "</table>\n",
       "</div>"
      ],
      "text/plain": [
       "  course_name  duration\n",
       "2    Big Data         6"
      ]
     },
     "execution_count": 2,
     "metadata": {},
     "output_type": "execute_result"
    }
   ],
   "source": [
    "df.loc[2:2]"
   ]
  },
  {
   "cell_type": "markdown",
   "id": "74210ba5-11df-429b-88e5-c017fc8bfb1a",
   "metadata": {},
   "source": [
    "Q2. What is the difference between the functions loc and iloc in pandas.DataFrame?\n",
    "\n",
    "The main distinction between the two methods is:\n",
    "\n",
    "loc gets rows (and/or columns) with particular labels.\n",
    "\n",
    "iloc gets rows (and/or columns) at integer locations."
   ]
  },
  {
   "cell_type": "markdown",
   "id": "78a20a74-935e-4076-b6f4-dae680f236b2",
   "metadata": {},
   "source": [
    "Q3. Reindex the given dataframe using a variable, reindex = [3,0,1,2] and store it in the variable, new_df\n",
    "then find the output for both new_df.loc[2] and new_df.iloc[2].\n",
    "\n",
    "Did you observe any difference in both the outputs? If so then explain it."
   ]
  },
  {
   "cell_type": "code",
   "execution_count": 3,
   "id": "9dd9c913-2173-442a-a63f-9a78e956dc1d",
   "metadata": {},
   "outputs": [
    {
     "data": {
      "text/html": [
       "<div>\n",
       "<style scoped>\n",
       "    .dataframe tbody tr th:only-of-type {\n",
       "        vertical-align: middle;\n",
       "    }\n",
       "\n",
       "    .dataframe tbody tr th {\n",
       "        vertical-align: top;\n",
       "    }\n",
       "\n",
       "    .dataframe thead th {\n",
       "        text-align: right;\n",
       "    }\n",
       "</style>\n",
       "<table border=\"1\" class=\"dataframe\">\n",
       "  <thead>\n",
       "    <tr style=\"text-align: right;\">\n",
       "      <th></th>\n",
       "      <th>course_name</th>\n",
       "      <th>duration</th>\n",
       "    </tr>\n",
       "  </thead>\n",
       "  <tbody>\n",
       "    <tr>\n",
       "      <th>3</th>\n",
       "      <td>Data Engineer</td>\n",
       "      <td>4</td>\n",
       "    </tr>\n",
       "    <tr>\n",
       "      <th>0</th>\n",
       "      <td>Data Science</td>\n",
       "      <td>2</td>\n",
       "    </tr>\n",
       "    <tr>\n",
       "      <th>1</th>\n",
       "      <td>Machine Learning</td>\n",
       "      <td>3</td>\n",
       "    </tr>\n",
       "    <tr>\n",
       "      <th>2</th>\n",
       "      <td>Big Data</td>\n",
       "      <td>6</td>\n",
       "    </tr>\n",
       "  </tbody>\n",
       "</table>\n",
       "</div>"
      ],
      "text/plain": [
       "        course_name  duration\n",
       "3     Data Engineer         4\n",
       "0      Data Science         2\n",
       "1  Machine Learning         3\n",
       "2          Big Data         6"
      ]
     },
     "execution_count": 3,
     "metadata": {},
     "output_type": "execute_result"
    }
   ],
   "source": [
    "new_df = df.reindex([3,0,1,2])\n",
    "new_df"
   ]
  },
  {
   "cell_type": "code",
   "execution_count": 4,
   "id": "41c536ca-ebc5-4484-808d-41dcf4523220",
   "metadata": {},
   "outputs": [
    {
     "name": "stdout",
     "output_type": "stream",
     "text": [
      "course_name    Big Data\n",
      "duration              6\n",
      "Name: 2, dtype: object\n",
      "course_name    Machine Learning\n",
      "duration                      3\n",
      "Name: 1, dtype: object\n"
     ]
    }
   ],
   "source": [
    "print(new_df.loc[2])\n",
    "print(new_df.iloc[2])"
   ]
  },
  {
   "cell_type": "markdown",
   "id": "0a413932-ad07-49c5-aa9f-adbecc99576e",
   "metadata": {},
   "source": [
    "new_df.loc[2] took the modified index to return the output.\n",
    "\n",
    "new_df.iloc[2] took the python inbuilt index to give the output."
   ]
  },
  {
   "cell_type": "code",
   "execution_count": 5,
   "id": "1a880029-a31e-4f04-9264-0b702c3fc422",
   "metadata": {},
   "outputs": [],
   "source": [
    "import pandas as pd\n",
    "import numpy as np\n",
    "columns = ['column_1', 'column_2', 'column_3', 'column_4', 'column_5', 'column_6']\n",
    "indices = [1,2,3,4,5,6]\n",
    "#Creating a dataframe:\n",
    "df1 = pd.DataFrame(np.random.rand(6,6), columns = columns, index = indices)"
   ]
  },
  {
   "cell_type": "code",
   "execution_count": 6,
   "id": "3cace257-073b-46c7-8de4-1e361dbbfa11",
   "metadata": {},
   "outputs": [
    {
     "data": {
      "text/html": [
       "<div>\n",
       "<style scoped>\n",
       "    .dataframe tbody tr th:only-of-type {\n",
       "        vertical-align: middle;\n",
       "    }\n",
       "\n",
       "    .dataframe tbody tr th {\n",
       "        vertical-align: top;\n",
       "    }\n",
       "\n",
       "    .dataframe thead th {\n",
       "        text-align: right;\n",
       "    }\n",
       "</style>\n",
       "<table border=\"1\" class=\"dataframe\">\n",
       "  <thead>\n",
       "    <tr style=\"text-align: right;\">\n",
       "      <th></th>\n",
       "      <th>column_1</th>\n",
       "      <th>column_2</th>\n",
       "      <th>column_3</th>\n",
       "      <th>column_4</th>\n",
       "      <th>column_5</th>\n",
       "      <th>column_6</th>\n",
       "    </tr>\n",
       "  </thead>\n",
       "  <tbody>\n",
       "    <tr>\n",
       "      <th>1</th>\n",
       "      <td>0.427385</td>\n",
       "      <td>0.780621</td>\n",
       "      <td>0.217528</td>\n",
       "      <td>0.119622</td>\n",
       "      <td>0.323504</td>\n",
       "      <td>0.148657</td>\n",
       "    </tr>\n",
       "    <tr>\n",
       "      <th>2</th>\n",
       "      <td>0.116172</td>\n",
       "      <td>0.484312</td>\n",
       "      <td>0.078439</td>\n",
       "      <td>0.525801</td>\n",
       "      <td>0.280355</td>\n",
       "      <td>0.937225</td>\n",
       "    </tr>\n",
       "    <tr>\n",
       "      <th>3</th>\n",
       "      <td>0.104286</td>\n",
       "      <td>0.499126</td>\n",
       "      <td>0.795869</td>\n",
       "      <td>0.290062</td>\n",
       "      <td>0.331271</td>\n",
       "      <td>0.826434</td>\n",
       "    </tr>\n",
       "    <tr>\n",
       "      <th>4</th>\n",
       "      <td>0.758199</td>\n",
       "      <td>0.554869</td>\n",
       "      <td>0.634453</td>\n",
       "      <td>0.503514</td>\n",
       "      <td>0.539359</td>\n",
       "      <td>0.556941</td>\n",
       "    </tr>\n",
       "    <tr>\n",
       "      <th>5</th>\n",
       "      <td>0.262335</td>\n",
       "      <td>0.033647</td>\n",
       "      <td>0.279324</td>\n",
       "      <td>0.895434</td>\n",
       "      <td>0.779342</td>\n",
       "      <td>0.370716</td>\n",
       "    </tr>\n",
       "    <tr>\n",
       "      <th>6</th>\n",
       "      <td>0.612838</td>\n",
       "      <td>0.996215</td>\n",
       "      <td>0.935158</td>\n",
       "      <td>0.750536</td>\n",
       "      <td>0.178328</td>\n",
       "      <td>0.017573</td>\n",
       "    </tr>\n",
       "  </tbody>\n",
       "</table>\n",
       "</div>"
      ],
      "text/plain": [
       "   column_1  column_2  column_3  column_4  column_5  column_6\n",
       "1  0.427385  0.780621  0.217528  0.119622  0.323504  0.148657\n",
       "2  0.116172  0.484312  0.078439  0.525801  0.280355  0.937225\n",
       "3  0.104286  0.499126  0.795869  0.290062  0.331271  0.826434\n",
       "4  0.758199  0.554869  0.634453  0.503514  0.539359  0.556941\n",
       "5  0.262335  0.033647  0.279324  0.895434  0.779342  0.370716\n",
       "6  0.612838  0.996215  0.935158  0.750536  0.178328  0.017573"
      ]
     },
     "execution_count": 6,
     "metadata": {},
     "output_type": "execute_result"
    }
   ],
   "source": [
    "df1"
   ]
  },
  {
   "cell_type": "markdown",
   "id": "f65692e9-afdd-46e4-b358-80b2c011fa1f",
   "metadata": {},
   "source": [
    "Q4. Write a code to find the following statistical measurements for the above dataframe df1:\n",
    "\n",
    "(i) mean of each and every column present in the dataframe.\n",
    "\n",
    "(ii) standard deviation of column, ‘column_2’"
   ]
  },
  {
   "cell_type": "code",
   "execution_count": 7,
   "id": "24ca8a03-7111-4b49-9318-15311e45f623",
   "metadata": {},
   "outputs": [
    {
     "data": {
      "text/plain": [
       "column_1    0.380202\n",
       "column_2    0.558132\n",
       "column_3    0.490129\n",
       "column_4    0.514161\n",
       "column_5    0.405360\n",
       "column_6    0.476258\n",
       "dtype: float64"
      ]
     },
     "execution_count": 7,
     "metadata": {},
     "output_type": "execute_result"
    }
   ],
   "source": [
    "df1.mean()"
   ]
  },
  {
   "cell_type": "code",
   "execution_count": 8,
   "id": "7628a9e8-2262-4ba0-bdc1-7dad192036cd",
   "metadata": {},
   "outputs": [
    {
     "data": {
      "text/plain": [
       "0.32417425355217433"
      ]
     },
     "execution_count": 8,
     "metadata": {},
     "output_type": "execute_result"
    }
   ],
   "source": [
    "df1['column_2'].std()"
   ]
  },
  {
   "cell_type": "markdown",
   "id": "427f8f3c-3d81-4afb-b13d-e2251e018b8d",
   "metadata": {},
   "source": [
    "Q5. Replace the data present in the second row of column, ‘column_2’ by a string variable then find the\n",
    "mean of column, column_2.\n",
    "\n",
    "If you are getting errors in executing it then explain why.\n",
    "\n",
    "[Hint: To replace the data use df1.loc[] and equate this to string data of your choice.]"
   ]
  },
  {
   "cell_type": "code",
   "execution_count": 9,
   "id": "017ed569-29ee-4e95-aaaa-635e0540d44e",
   "metadata": {},
   "outputs": [],
   "source": [
    "df1.loc[2,['column_2']] = \"Prabhat\""
   ]
  },
  {
   "cell_type": "code",
   "execution_count": 10,
   "id": "ebaa1a2e-7c69-4201-b8e1-4e9e3fc2b781",
   "metadata": {},
   "outputs": [],
   "source": [
    "# df1['column_2'].mean()\n",
    "\n",
    "#It is giving unsupported operand type(s) for +:\n",
    "#'float' and 'str' means string and float are not supported for mathematical function"
   ]
  },
  {
   "cell_type": "markdown",
   "id": "066ba758-2b33-4679-8581-4848962bb2a1",
   "metadata": {},
   "source": [
    "Q6. What do you understand about the windows function in pandas and list the types of windows\n",
    "functions?\n",
    "\n",
    "\n",
    "Window functions allow us to perform an operation with a given row’s data and data from another row that is a specified number of rows away — this “number of rows away value” is called the window.\n"
   ]
  },
  {
   "attachments": {
    "cf37f261-bb46-45da-9714-5d18961abbf8.jpg": {
     "image/jpeg": "[encoded data removed]"
    }
   },
   "cell_type": "markdown",
   "id": "b2d912fc-6062-4188-91ef-d11f7f76f377",
   "metadata": {},
   "source": [
    "![window-functions-in-pandas-2.jpg](attachment:cf37f261-bb46-45da-9714-5d18961abbf8.jpg)"
   ]
  },
  {
   "cell_type": "markdown",
   "id": "a6318668-e609-4cf3-a5bc-a9102d640b5b",
   "metadata": {},
   "source": [
    "Windows function in Pandas can be broadly divided into three categories namely- Aggregate, Ranking, and Value.\n",
    "\n",
    "The Aggregate category of window functions can be of three types namely-\n",
    "\n",
    "Group,\n",
    "Rolling, and\n",
    "Expanding.\n",
    "The Ranking category of window functions can be of five types namely-\n",
    "\n",
    "Row Numbers,\n",
    "Row numbers if of two types:\n",
    "reset_index()\n",
    "cumcount()\n",
    "Rank,\n",
    "Rank is of four types:\n",
    "default_rank\n",
    "min_rank\n",
    "NA_bottom\n",
    "descending\n",
    "Dense rank,\n",
    "Percent, and\n",
    "N-Tile / qcut().\n",
    "The Value category of window functions can be of two types namely-\n",
    "\n",
    "Lag / Lead, and\n",
    "First / Last/nth."
   ]
  },
  {
   "cell_type": "markdown",
   "id": "f10b1c0d-de73-4436-8b28-f52d5917c08a",
   "metadata": {},
   "source": [
    "Q7. Write a code to print only the current month and year at the time of answering this question.\n",
    "\n",
    "[Hint: Use pandas.datetime function]"
   ]
  },
  {
   "cell_type": "code",
   "execution_count": 11,
   "id": "21a49b92-7ebe-4f38-b275-a737891e6c64",
   "metadata": {},
   "outputs": [
    {
     "name": "stderr",
     "output_type": "stream",
     "text": [
      "/tmp/ipykernel_3379/2975970894.py:1: FutureWarning: The pandas.datetime class is deprecated and will be removed from pandas in a future version. Import from datetime module instead.\n",
      "  year = str(pd.datetime.now()).split(\"-\")[0]\n",
      "/tmp/ipykernel_3379/2975970894.py:2: FutureWarning: The pandas.datetime class is deprecated and will be removed from pandas in a future version. Import from datetime module instead.\n",
      "  month = str(pd.datetime.now()).split(\"-\")[1]\n"
     ]
    }
   ],
   "source": [
    "year = str(pd.datetime.now()).split(\"-\")[0]\n",
    "month = str(pd.datetime.now()).split(\"-\")[1]"
   ]
  },
  {
   "cell_type": "code",
   "execution_count": 12,
   "id": "31b6e890-17fe-4572-98ac-d66c270dc926",
   "metadata": {},
   "outputs": [
    {
     "data": {
      "text/plain": [
       "'2023'"
      ]
     },
     "execution_count": 12,
     "metadata": {},
     "output_type": "execute_result"
    }
   ],
   "source": [
    "year"
   ]
  },
  {
   "cell_type": "code",
   "execution_count": 13,
   "id": "526ae9a1-0eae-424c-a756-bdbd25aa643c",
   "metadata": {},
   "outputs": [
    {
     "data": {
      "text/plain": [
       "'02'"
      ]
     },
     "execution_count": 13,
     "metadata": {},
     "output_type": "execute_result"
    }
   ],
   "source": [
    "month"
   ]
  },
  {
   "cell_type": "markdown",
   "id": "99a3e6f0-697a-422e-bd58-53a3fc816be9",
   "metadata": {},
   "source": [
    "Q8. Write a Python program that takes in two dates as input (in the format YYYY-MM-DD) and\n",
    "calculates the difference between them in days, hours, and minutes using Pandas time delta. The\n",
    "program should prompt the user to enter the dates and display the result."
   ]
  },
  {
   "cell_type": "code",
   "execution_count": 14,
   "id": "836d67db-9494-4121-a6ef-89f03dae55d3",
   "metadata": {},
   "outputs": [],
   "source": [
    "def delta(l):\n",
    "    df2 = pd.DataFrame({\"Date\" : l})\n",
    "    df2['Date'] = pd.to_datetime(df2['Date'])\n",
    "    return df2['Date'][1] - df2['Date'][0]"
   ]
  },
  {
   "cell_type": "code",
   "execution_count": null,
   "id": "a3ccd8d0-eb9c-47f7-ba76-cb53b04f8939",
   "metadata": {},
   "outputs": [],
   "source": [
    "l = []\n",
    "for i in range(2):\n",
    "    d = input(f\"Enter the {i+1} date :\")\n",
    "    l.append(d)\n",
    "delta(l)\n",
    "    "
   ]
  },
  {
   "cell_type": "markdown",
   "id": "4a315481-55be-4d33-b653-3d1336967299",
   "metadata": {},
   "source": [
    "Q9. Write a Python program that reads a CSV file containing categorical data and converts a specified\n",
    "column to a categorical data type. The program should prompt the user to enter the file path, column\n",
    "name, and category order, and then display the sorted data."
   ]
  },
  {
   "cell_type": "code",
   "execution_count": null,
   "id": "156a7d84-7243-449d-8708-4f6da015816f",
   "metadata": {},
   "outputs": [],
   "source": [
    "import pandas as pd\n",
    "\n",
    "# prompt user for file path, column name, and category order\n",
    "file_path = input(\"Enter file path: \")\n",
    "column_name = input(\"Enter column name to categorize: \")\n",
    "category_order = input(\"Enter category order (comma-separated): \").split(\",\")\n",
    "\n",
    "read CSV file into DataFrame\n",
    "df = pd.read_csv(file_path)\n",
    "\n",
    "# convert specified column to categorical data type with specified order\n",
    "cat_dtype = pd.api.types.CategoricalDtype(categories=category_order, ordered=True)\n",
    "df[column_name] = df[column_name].astype(cat_dtype)\n",
    "\n",
    "# sort DataFrame by specified column\n",
    "df = df.sort_values(by=[column_name])\n",
    "\n",
    "# display sorted data\n",
    "print(df)\n"
   ]
  },
  {
   "cell_type": "markdown",
   "id": "1da509d8-9630-4db6-823a-2508648caa79",
   "metadata": {},
   "source": [
    "Q10. Write a Python program that reads a CSV file containing sales data for different products and\n",
    "visualizes the data using a stacked bar chart to show the sales of each product category over time. The\n",
    "program should prompt the user to enter the file path and display the chart."
   ]
  },
  {
   "cell_type": "code",
   "execution_count": 16,
   "id": "a0dcefc0-23ce-4273-baeb-56e25fc155c4",
   "metadata": {},
   "outputs": [
    {
     "data": {
      "text/plain": [
       "<AxesSubplot: >"
      ]
     },
     "execution_count": 16,
     "metadata": {},
     "output_type": "execute_result"
    },
    {
     "data": {
      "image/png": "[encoded data removed]",
      "text/plain": [
       "<Figure size 640x480 with 1 Axes>"
      ]
     },
     "metadata": {},
     "output_type": "display_data"
    }
   ],
   "source": [
    "data = {\"products\": [1,2,3,4],\"Sales\":[5,6,7,3]}\n",
    "df1 = pd.DataFrame(data)\n",
    "df1.plot.bar()"
   ]
  },
  {
   "cell_type": "markdown",
   "id": "9050b731-cf4e-42f4-aed1-1709fbafc7a9",
   "metadata": {},
   "source": [
    "Q11. You are given a CSV file containing student data that includes the student ID and their test score. Write\n",
    "a Python program that reads the CSV file, calculates the mean, median, and mode of the test scores, and\n",
    "displays the results in a table.\n",
    "\n",
    "The program should do the followingM\n",
    "\n",
    "I Prompt the user to enter the file path of the CSV file containing the student dataR\n",
    "\n",
    "I Read the CSV file into a Pandas DataFrameR\n",
    "\n",
    "I Calculate the mean, median, and mode of the test scores using Pandas toolsR\n",
    "\n",
    "I Display the mean, median, and mode in a table.\n",
    "\n",
    "Assume the CSV file contains the following columnsM\n",
    "\n",
    "I Student ID: The ID of the studentR\n",
    "\n",
    "I Test Score: The score of the student's test.\n",
    "\n",
    "Example usage of the program:\n",
    "\n",
    "Enter the file path of the CSV file containing the student data: student_data.csv\n",
    "\n",
    "+-----------+--------+\n",
    "\n",
    "| Statistic | Value |\n",
    "\n",
    "+-----------+--------+\n",
    "\n",
    "| Mean | 79.6 |\n",
    "\n",
    "| Median | 82 |\n",
    "\n",
    "| Mode | 85, 90 |\n",
    "\n",
    "+-----------+--------+\n",
    "\n",
    "Assume that the CSV file student_data.csv contains the following data:\n",
    "\n",
    "Student ID,Test Score\n",
    "\n",
    "1,85\n",
    "\n",
    "2,90\n",
    "\n",
    "3,80\n",
    "\n",
    "4,75\n",
    "\n",
    "5,85\n",
    "\n",
    "6,82\n",
    "\n",
    "7,78\n",
    "\n",
    "8,85\n",
    "\n",
    "9,90\n",
    "\n",
    "10,85\n",
    "\n",
    "The program should calculate the mean, median, and mode of the test scores and display the results\n",
    "in a table."
   ]
  },
  {
   "cell_type": "code",
   "execution_count": null,
   "id": "971b0460-f1af-49f1-91c1-25f3a166898f",
   "metadata": {},
   "outputs": [],
   "source": [
    "import pandas as pd\n",
    "\n",
    "# Prompt user to enter file path\n",
    "file_path = input(\"Enter the file path of the CSV file containing the student data: \")\n",
    "\n",
    "# Read CSV file into a Pandas DataFrame\n",
    "df = pd.read_csv(file_path)\n",
    "\n",
    "# Calculate mean, median, and mode of test scores\n",
    "mean_score = df['Test Score'].mean()\n",
    "median_score = df['Test Score'].median()\n",
    "mode_score = df['Test Score'].mode()\n",
    "\n",
    "# Display results in a table\n",
    "results = pd.DataFrame({\n",
    "    'Statistic': ['Mean', 'Median', 'Mode'],\n",
    "    'Value': [mean_score, median_score, mode_score]\n",
    "})\n",
    "\n",
    "print(results)\n"
   ]
  },
  {
   "cell_type": "code",
   "execution_count": null,
   "id": "9134ea0a-b181-4458-80b0-88da5c3ab814",
   "metadata": {},
   "outputs": [],
   "source": []
  }
 ],
 "metadata": {
  "kernelspec": {
   "display_name": "Python 3 (ipykernel)",
   "language": "python",
   "name": "python3"
  },
  "language_info": {
   "codemirror_mode": {
    "name": "ipython",
    "version": 3
   },
   "file_extension": ".py",
   "mimetype": "text/x-python",
   "name": "python",
   "nbconvert_exporter": "python",
   "pygments_lexer": "ipython3",
   "version": "3.10.8"
  }
 },
 "nbformat": 4,
 "nbformat_minor": 5
}
