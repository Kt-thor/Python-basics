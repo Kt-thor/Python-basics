{
 "cells": [
  {
   "cell_type": "markdown",
   "id": "c2fb85c5-4707-4b43-abc6-2a8eb3d800d6",
   "metadata": {},
   "source": [
    "Q1. Which function is used to open a file? What are the different modes of opening a file? Explain each mode\n",
    "of file opening."
   ]
  },
  {
   "cell_type": "markdown",
   "id": "b534f0fa-c07e-4ebb-b7fe-31bfcdaee023",
   "metadata": {},
   "source": [
    "open function is used to open a file.\n",
    "\n",
    "\n",
    "Different Modes to Open a File in Python\n",
    "\n",
    "r: Open a file for reading. (default)\n",
    "\n",
    "w: Open a file for writing. Creates a new file if it does not exist or truncates the file if it exists.\n",
    "\n",
    "x: Open a file for exclusive creation. If the file already exists, the operation fails.\n",
    "\n",
    "a:Open a file for appending at the end of the file without truncating it. Creates a new file if it does not exist.\n",
    "\n",
    "t:Open in text mode. (default)\n",
    "\n",
    "b:Open in binary mode."
   ]
  },
  {
   "cell_type": "markdown",
   "id": "15ecccae-89cd-40ff-9154-921a8e18cb16",
   "metadata": {},
   "source": [
    "Q2. Why close() function is used? Why is it important to close a file?"
   ]
  },
  {
   "cell_type": "markdown",
   "id": "47e02f4b-cc98-4071-a13a-9ca19d2408e2",
   "metadata": {},
   "source": [
    "When we are done with performing operations on the file, we need to properly close the file.\n",
    "\n",
    "Closing a file will free up the resources that were tied with the file. It is done using the close() method in Python. "
   ]
  },
  {
   "cell_type": "markdown",
   "id": "b802215f-84af-410e-abe8-40a20cd9b7ac",
   "metadata": {},
   "source": [
    "Q3. Write a python program to create a text file. Write ‘I want to become a Data Scientist’ in that file. Then\n",
    "close the file. Open this file and read the content of the file."
   ]
  },
  {
   "cell_type": "code",
   "execution_count": 1,
   "id": "ba211002-5ea6-4b00-be30-96a8a82ac2b2",
   "metadata": {},
   "outputs": [],
   "source": [
    "file = open(\"text\",\"w\")\n",
    "file.write(\"I want to become a data scientist\")\n",
    "file.close()"
   ]
  },
  {
   "cell_type": "code",
   "execution_count": 2,
   "id": "ab314d90-03ea-4e03-b7a3-b25cef69ab61",
   "metadata": {},
   "outputs": [],
   "source": [
    "file = open(\"text\")"
   ]
  },
  {
   "cell_type": "code",
   "execution_count": 3,
   "id": "01b037e9-3b74-4503-93b9-7b74450c8bca",
   "metadata": {},
   "outputs": [
    {
     "data": {
      "text/plain": [
       "'I want to become a data scientist'"
      ]
     },
     "execution_count": 3,
     "metadata": {},
     "output_type": "execute_result"
    }
   ],
   "source": [
    "file.read()"
   ]
  },
  {
   "cell_type": "markdown",
   "id": "8ca865a9-96d8-4705-9d32-8840d9434058",
   "metadata": {},
   "source": [
    "Q4. Explain the following with python code: read(), readline() and readlines()."
   ]
  },
  {
   "cell_type": "markdown",
   "id": "f3010d86-e591-4d6c-82c5-a7c8505b2ea9",
   "metadata": {},
   "source": [
    "read() reads the entire file and returns a string, \n",
    "\n",
    "readline() reads just one line from a file,\n",
    "\n",
    "readlines() returns a list of strings representing the lines of the file."
   ]
  },
  {
   "cell_type": "markdown",
   "id": "d6aecc6c-b2f0-414a-a9ee-6fc394bea63c",
   "metadata": {},
   "source": [
    "Q5. Explain why with statement is used with open(). What is the advantage of using with statement and\n",
    "open() together?"
   ]
  },
  {
   "cell_type": "markdown",
   "id": "398a37c5-bc76-46fa-8d8f-d9019c8de970",
   "metadata": {},
   "source": [
    "Using with open() context statement makes the code more tidy as we can easily separate between code block by difference in indents and we do not need to close the file. In case of open(), we might miss closing the file instance, this may cause memory leaks and other I/O operation errors.\n"
   ]
  },
  {
   "cell_type": "markdown",
   "id": "60b6ed14-b8b8-48d3-9b09-08b23c275ba1",
   "metadata": {},
   "source": [
    "Q6. Explain the write() and writelines() functions. Give a suitable example."
   ]
  },
  {
   "cell_type": "code",
   "execution_count": 4,
   "id": "b4f34f87-89ce-4681-959e-f2f21b996789",
   "metadata": {},
   "outputs": [],
   "source": [
    "f = open(\"txt\",\"w\")\n",
    "f.write(\"I want to become a data scientist Q4. Explain the following with python code: read(), readline() and readlines(). read() reads the entire file and returns a string,readline() reads just one line from a file,readlines() returns a list of strings representing the lines of the file.Q5. Explain why with statement is used with open(). What is the advantage of using with statement and open() together?Using with open() context statement makes the code more tidy as we can easily separate between code block by difference in indents and we do not need to close the file. In case of open(), we might miss closing the file instance, this may cause memory leaks and other I/O operation errors.\")\n",
    "f.close()\n"
   ]
  },
  {
   "cell_type": "code",
   "execution_count": 5,
   "id": "ca87f59f-0701-4c89-9803-f7211cfe4985",
   "metadata": {},
   "outputs": [
    {
     "name": "stdin",
     "output_type": "stream",
     "text": [
      "Enter line Enter line Hi i want to become a data scientist Enter line i will earn a handsoome amount of money\n",
      "Enter line Enter line Hi i want to become a data scientist Enter line i will earn a handsoome amount of money\n"
     ]
    }
   ],
   "source": [
    "q = open(\"xx\",\"w\")\n",
    "a = []\n",
    "for i in range(1,3):\n",
    "    p = input(\"Enter line\")\n",
    "    a.append(p)\n",
    "q.writelines(a)\n",
    "q.close()\n"
   ]
  },
  {
   "cell_type": "code",
   "execution_count": 9,
   "id": "7a17eae8-df1a-4936-83b1-d43264a4ce06",
   "metadata": {},
   "outputs": [
    {
     "data": {
      "text/plain": [
       "'I want to become a data scientist Q4. Explain the following with python code: read(), readline() and readlines(). read() reads the entire file and returns a string,readline() reads just one line from a file,readlines() returns a list of strings representing the lines of the file.Q5. Explain why with statement is used with open(). What is the advantage of using with statement and open() together?Using with open() context statement makes the code more tidy as we can easily separate between code block by difference in indents and we do not need to close the file. In case of open(), we might miss closing the file instance, this may cause memory leaks and other I/O operation errors.'"
      ]
     },
     "execution_count": 9,
     "metadata": {},
     "output_type": "execute_result"
    }
   ],
   "source": [
    "file1 = open(\"txt\")\n",
    "file1.read()"
   ]
  },
  {
   "cell_type": "code",
   "execution_count": 10,
   "id": "3912e75b-55c3-4745-8522-e5f8315c98fb",
   "metadata": {},
   "outputs": [
    {
     "data": {
      "text/plain": [
       "'Enter line Hi i want to become a data scientist Enter line i will earn a handsoome amount of moneyEnter line Hi i want to become a data scientist Enter line i will earn a handsoome amount of money'"
      ]
     },
     "execution_count": 10,
     "metadata": {},
     "output_type": "execute_result"
    }
   ],
   "source": [
    "file1 = open(\"xx\")\n",
    "file1.read()"
   ]
  },
  {
   "cell_type": "code",
   "execution_count": null,
   "id": "df569c11-57ce-4ec3-8639-7927cda7d689",
   "metadata": {},
   "outputs": [],
   "source": []
  }
 ],
 "metadata": {
  "kernelspec": {
   "display_name": "Python 3 (ipykernel)",
   "language": "python",
   "name": "python3"
  },
  "language_info": {
   "codemirror_mode": {
    "name": "ipython",
    "version": 3
   },
   "file_extension": ".py",
   "mimetype": "text/x-python",
   "name": "python",
   "nbconvert_exporter": "python",
   "pygments_lexer": "ipython3",
   "version": "3.10.8"
  }
 },
 "nbformat": 4,
 "nbformat_minor": 5
}
