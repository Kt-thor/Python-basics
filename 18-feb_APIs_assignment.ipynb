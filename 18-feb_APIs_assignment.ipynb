{
 "cells": [
  {
   "cell_type": "markdown",
   "id": "00eff174-391d-4e37-abfd-5a2d04366a93",
   "metadata": {},
   "source": [
    "Q1. What is an API? Give an example, where an API is used in real life."
   ]
  },
  {
   "cell_type": "markdown",
   "id": "3a83fe51-703b-4ab0-aecf-644d9e00ffb4",
   "metadata": {},
   "source": [
    "API refers to the application program interface.It is used to communitcate between two system in which one makes request and another will give response.\n",
    "\n",
    "Example :  google search is the best example of using API between its database and client side ,when we search it retrieves the data from database.\n",
    "        "
   ]
  },
  {
   "cell_type": "markdown",
   "id": "af5f2027-a871-4a54-8c1e-9a0f1dc6f2d2",
   "metadata": {},
   "source": [
    "\n",
    "Q2. Give advantages and disadvantages of using API."
   ]
  },
  {
   "cell_type": "markdown",
   "id": "b7b88748-44ce-4d82-8465-4b1c539a2621",
   "metadata": {},
   "source": [
    "Advantages :\n",
    "\n",
    "Applications:\n",
    "    Access to APIs ensures more flexibility in information-transfer processes.\n",
    "\n",
    "Reach:\n",
    "    APIs let you create layers in apps in order to distribute information to different audiences.\n",
    "\n",
    "Customization:\n",
    "    Furthermore, it can serve as a solution to create different experiences for users, letting protocols, functions, and commands be adapted according to specific demands.\n",
    "\n",
    "Efficiency:\n",
    "    When you have content that is automatically published and made available on different channels simultaneously, APIs allow for more efficient data distribution.\n",
    "\n",
    "Adaptability:\n",
    "    One of the greatest benefits of APIs is the ability it has to adapt to changes through data migration and flexibility of services.\n",
    "\n",
    "Disadvantages:\n",
    "\n",
    "As a single point of entry, an API is a gateway and can become a hacker's primary target. Once the API is compromised, all other applications and systems become vulnerable."
   ]
  },
  {
   "cell_type": "markdown",
   "id": "04b64a2b-02df-41cd-ba86-ed658ca93c68",
   "metadata": {},
   "source": [
    "Q3. What is a Web API? Differentiate between API and Web API."
   ]
  },
  {
   "cell_type": "markdown",
   "id": "135922a5-e947-4f36-9511-f48a69fbe5a8",
   "metadata": {},
   "source": [
    "Web API is  the subset of  API that use HTTP to communicate between systems that are in same tech or different tech.\n",
    "\n",
    "Difference between API and web API is that Web API is the subset of API,\n",
    "API is the generalised term for communication between two system,web API means Communication via HTTP protocls"
   ]
  },
  {
   "cell_type": "markdown",
   "id": "5765ae23-4514-44af-85fd-40745a71023c",
   "metadata": {},
   "source": [
    "Q4. Explain REST and SOAP Architecture. Mention shortcomings of SOAP."
   ]
  },
  {
   "cell_type": "markdown",
   "id": "e416dd1b-b2d9-48f0-ab01-4d3e60e32318",
   "metadata": {},
   "source": [
    "REST :\n",
    "    \n",
    "    1: use for web apis\n",
    "    \n",
    "    2: functions like put get push delete are there\n",
    "    \n",
    "    3:simple,scalable,flexible,secure\n",
    "    \n",
    "    4:HTTP based\n",
    "    \n",
    "SOAP :\n",
    "    1: use for web API\n",
    "    \n",
    "    2: HTTP and TLS and also support TCP and SMTP\n",
    "    \n",
    "    3:much secure than REST\n",
    "    \n",
    "    \n",
    "shortcomings/limitations of soap : \n",
    "\n",
    "1 : Highly complex\n",
    "\n",
    "In comparison to Rest, SOAP is significantly more complex. It's also less flexible. This might present a challenge for developers that are not highly skilled. The extensive processing required may also slow down performance.\n",
    "\n",
    "\n",
    "2 : No variety of data formats\n",
    "\n",
    "SOAP is also extremely limited in its support of data formats. The formats supported by Rest include HTML, JSON, YAML, XML and others. Meanwhile, SOAP only supports XML.\n",
    "\n",
    "\n",
    "3 : API calls are not cached\n",
    "\n",
    "The process where a request is sent after an API is set up with the correct endpoints is referred to as an API call. The process results in the information being transferred, processed and feedback being provided. It's not possible for SOAP API calls to be cached.\n",
    "\n",
    "\n",
    "4 :Uses more bandwidth\n",
    "\n",
    "SOAP is generally slower in comparison to Rest and it also uses more bandwidth given its very complex nature. It’s another limiting factor in the efficacy of this technology for certain projects.\n",
    "    \n",
    "    "
   ]
  },
  {
   "cell_type": "markdown",
   "id": "2fab99da-1821-4ed9-be0e-acfd76c28051",
   "metadata": {},
   "source": [
    "Q5.Differentiate between REST and SOAP."
   ]
  },
  {
   "cell_type": "markdown",
   "id": "9ce6324d-adcf-4a3d-8162-0a5454a283d2",
   "metadata": {},
   "source": [
    "1 : REST is a set of guidelines that offers flexible implementation, whereas SOAP is a protocol with specific requirements like XML messaging.\n",
    "\n",
    "2 :REST APIs are lightweight, making them ideal for newer contexts like the Internet of Things (IoT), mobile application development, and serverless computing. SOAP web services offer built-in security and transaction compliance that align with many enterprise needs, but that also makes them heavier. Additionally, many public APIs, like the Google Maps API, follow the REST guidelines.\n",
    "\n",
    "3 : RESt APIs are simple to use but SOAP do not.\n",
    "\n",
    "4: REST use HTTP,but SOAP use XML based messeging protocols."
   ]
  },
  {
   "cell_type": "code",
   "execution_count": null,
   "id": "098eba04-5afd-497f-8787-02408a189125",
   "metadata": {},
   "outputs": [],
   "source": []
  }
 ],
 "metadata": {
  "kernelspec": {
   "display_name": "Python 3 (ipykernel)",
   "language": "python",
   "name": "python3"
  },
  "language_info": {
   "codemirror_mode": {
    "name": "ipython",
    "version": 3
   },
   "file_extension": ".py",
   "mimetype": "text/x-python",
   "name": "python",
   "nbconvert_exporter": "python",
   "pygments_lexer": "ipython3",
   "version": "3.10.8"
  }
 },
 "nbformat": 4,
 "nbformat_minor": 5
}
