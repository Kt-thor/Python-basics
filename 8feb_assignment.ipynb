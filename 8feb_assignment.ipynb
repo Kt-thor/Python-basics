{
 "cells": [
  {
   "cell_type": "markdown",
   "id": "d5f963ea-7657-479e-bf3b-6efc655d2075",
   "metadata": {},
   "source": [
    "Q1. What is Abstraction in OOps? Explain with an example."
   ]
  },
  {
   "cell_type": "markdown",
   "id": "0ade0c93-c983-443f-bb3f-ebdd8f99ba64",
   "metadata": {},
   "source": [
    "it hides the unnecessary code details from the user. Also,  when we do not want to give out sensitive parts of our code implementation and this is where data abstraction came.\n",
    "\n",
    "Data Abstraction in Python can be achieved through creating abstract classes."
   ]
  },
  {
   "cell_type": "code",
   "execution_count": 4,
   "id": "e569b48c-c9ed-4db5-8f16-2754f5e3ca19",
   "metadata": {},
   "outputs": [
    {
     "name": "stdout",
     "output_type": "stream",
     "text": [
      "Triangle has 3 sides\n",
      "I have 4 sides\n",
      "Pentagon has 5 sides\n",
      "Hexagon has 6 sides\n"
     ]
    }
   ],
   "source": [
    "from abc import ABC  \n",
    "  \n",
    "class Polygon(ABC):   \n",
    "  \n",
    "   # abstract method   \n",
    "   def sides(self):   \n",
    "      pass  \n",
    "  \n",
    "class Triangle(Polygon):   \n",
    "  \n",
    "     \n",
    "   def sides(self):   \n",
    "      print(\"Triangle has 3 sides\")   \n",
    "  \n",
    "class Pentagon(Polygon):   \n",
    "  \n",
    "     \n",
    "   def sides(self):   \n",
    "      print(\"Pentagon has 5 sides\")   \n",
    "  \n",
    "class Hexagon(Polygon):   \n",
    "  \n",
    "   def sides(self):   \n",
    "      print(\"Hexagon has 6 sides\")   \n",
    "  \n",
    "class square(Polygon):   \n",
    "  \n",
    "   def sides(self):   \n",
    "      print(\"I have 4 sides\")   \n",
    "  \n",
    "# Driver code   \n",
    "t = Triangle()   \n",
    "t.sides()   \n",
    "  \n",
    "s = square()   \n",
    "s.sides()   \n",
    "  \n",
    "p = Pentagon()   \n",
    "p.sides()   \n",
    "  \n",
    "k = Hexagon()   \n",
    "k.sides()   "
   ]
  },
  {
   "cell_type": "markdown",
   "id": "b42d41d8-3063-4376-aefe-bf3001a57f29",
   "metadata": {},
   "source": [
    "Q2. Differentiate between Abstraction and Encapsulation. Explain with an example."
   ]
  },
  {
   "cell_type": "markdown",
   "id": "537aefcc-0f71-4fb6-a971-b83a338f5d0a",
   "metadata": {
    "jupyter": {
     "source_hidden": true
    },
    "tags": []
   },
   "source": [
    "encapsulation is, that it is a protective shield that prevents the data from being accessed by the code outside this shield. Technically in encapsulation, the variables or data of a class is hidden from any other class and can be accessed only through any member function of its own class in which they are declared.\n",
    "\n",
    "\n",
    "Data Abstraction is the property by virtue of which only the essential details are displayed to the user. The trivial or the non-essential units are not displayed to the user. \n",
    "\n",
    "Eg: if you see a car ,abstraction means seeing a car from outside but encapsulation means how the machineries are wrapped up into the car "
   ]
  },
  {
   "cell_type": "markdown",
   "id": "1666e39a-a5af-447b-9057-e164ca6cb16d",
   "metadata": {},
   "source": [
    "3 : What is abc module in python? Why is it used?"
   ]
  },
  {
   "cell_type": "markdown",
   "id": "efc1ece7-b3c0-47a3-84b4-c41d2ab86764",
   "metadata": {},
   "source": [
    "Abstract base classes provide a way to define interfaces when other techniques like hasattr() would be clumsy or subtly wrong (for example with magic methods). ABCs introduce virtual subclasses, which are classes that don’t inherit from a class but are still recognized by isinstance() and issubclass() functions. There are many built-in ABCs in Python. ABCs for Data structures like Iterator, Generator, Set, mapping etc. are defined in collections.abc module. The numbers module defines numeric tower which is a collection of base classes for numeric data types. The 'abc' module in Python library provides the infrastructure for defining custom abstract base classes.\n",
    "\n",
    "'abc' works by marking methods of the base class as abstract. This is done by @absttractmethod decorator. A concrete class which is a sub class of such abstract base class then implements the abstract base by overriding its abstract methods.\n",
    "\n",
    "The abc module defines ABCMeta class which is a metaclass for defining abstract base class. Following example defines Shape class as an abstract base class using ABCMeta. The shape class has area() method decorated by abstractmethod.\n",
    "\n",
    "A Rectangle class now uses above Shape class as its parent and implementing the abstract area() method. Since it is a concrete class, it can be instantiated and imlemented area() method can be called."
   ]
  },
  {
   "cell_type": "code",
   "execution_count": 1,
   "id": "fc97aa1b-8c4a-4fef-aea1-e8cfa530bbd3",
   "metadata": {},
   "outputs": [],
   "source": [
    "from abc import ABC,abstractmethod\n",
    "class Shape(ABC):\n",
    "    @abstractmethod\n",
    "    def area(self):pass\n",
    "    \n",
    "    def perimeter(self):pass\n",
    "\n",
    "class square(Shape):\n",
    "    def __init__(self,side):\n",
    "        self.__side = side\n",
    "    \n",
    "    def area(self):\n",
    "        return self.__side **2\n",
    "\n",
    "squares = square(5)"
   ]
  },
  {
   "cell_type": "code",
   "execution_count": 2,
   "id": "45445d9e-f86a-4c8e-b229-65353994eac9",
   "metadata": {},
   "outputs": [
    {
     "data": {
      "text/plain": [
       "(25, None)"
      ]
     },
     "execution_count": 2,
     "metadata": {},
     "output_type": "execute_result"
    }
   ],
   "source": [
    "squares.area(),squares.perimeter()"
   ]
  },
  {
   "cell_type": "markdown",
   "id": "338c1e1f-11ef-45c7-b14b-30c60e1ebaee",
   "metadata": {},
   "source": [
    "Q4. How can we achieve data abstraction?"
   ]
  },
  {
   "cell_type": "markdown",
   "id": "85af6cac-ac86-4120-83cd-8c6cb0225814",
   "metadata": {},
   "source": [
    "1 :Understanding Abstract Methods and Classes.\n",
    "\n",
    "2 :Understanding Working program."
   ]
  },
  {
   "cell_type": "markdown",
   "id": "e74b563d-8082-4238-bc04-fe79ad2526c8",
   "metadata": {},
   "source": [
    "Q5. Can we create an instance of an abstract class? Explain your answer."
   ]
  },
  {
   "cell_type": "markdown",
   "id": "685a5047-1416-468b-aa42-47411ab8b585",
   "metadata": {},
   "source": [
    "an abstract class is not a concrete class, it cannot be instantiated. When we create an object for the abstract class it raises an error. "
   ]
  },
  {
   "cell_type": "code",
   "execution_count": null,
   "id": "90afa2ad-fe3e-48b9-9f8a-c8c00f295d35",
   "metadata": {},
   "outputs": [],
   "source": []
  }
 ],
 "metadata": {
  "kernelspec": {
   "display_name": "Python 3 (ipykernel)",
   "language": "python",
   "name": "python3"
  },
  "language_info": {
   "codemirror_mode": {
    "name": "ipython",
    "version": 3
   },
   "file_extension": ".py",
   "mimetype": "text/x-python",
   "name": "python",
   "nbconvert_exporter": "python",
   "pygments_lexer": "ipython3",
   "version": "3.10.8"
  }
 },
 "nbformat": 4,
 "nbformat_minor": 5
}
