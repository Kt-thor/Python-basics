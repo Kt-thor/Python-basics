{
 "cells": [
  {
   "attachments": {},
   "cell_type": "markdown",
   "metadata": {},
   "source": [
    " 1 : Guido van Rossum in 1991 \n",
    "\n",
    " 2: Python is an interpreted programming language, supporting object-oriented , structured, and functional programming.\n",
    " \n",
    " 3: yes.\n",
    " \n",
    " 4: \".py\" is the correct extension of python file.\n",
    "\n",
    "5: python code is interpreted not compiled.\n",
    "\n",
    "6: if else while for functions etc.\n",
    "\n",
    "7 : #\n",
    "\n",
    "8: in linux : command ---->  python3 --version\n",
    "\n",
    "9:lambda function\n",
    "\n",
    "10: PIP is python package installer\n",
    "\n",
    "11: list,set,int,type,float,str,dict\n",
    "\n",
    "12:79 charectors is the limit\n",
    "\n",
    "13: free learning resources,high community support,easy,versatile,futuristic language.ML,AI are only done via python significantly.\n",
    "\n",
    "14: memory is freed by the python compiler when the program get executed\n",
    "\n",
    "15:Install the python from the official website,then copy the path from the python installrd folder and paste in environment variable \n",
    "of advanced system setting.\n",
    "\n",
    "16: Yes it is required.\n",
    "\n",
    "\n"
   ]
  },
  {
   "cell_type": "markdown",
   "metadata": {},
   "source": []
  }
 ],
 "metadata": {
  "kernelspec": {
   "display_name": "Python 3",
   "language": "python",
   "name": "python3"
  },
  "language_info": {
   "name": "python",
   "version": "3.10.6 (main, Nov 14 2022, 16:10:14) [GCC 11.3.0]"
  },
  "orig_nbformat": 4,
  "vscode": {
   "interpreter": {
    "hash": "916dbcbb3f70747c44a77c7bcd40155683ae19c65e1c03b4aa3499c5328201f1"
   }
  }
 },
 "nbformat": 4,
 "nbformat_minor": 2
}
