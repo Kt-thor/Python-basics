{
 "cells": [
  {
   "cell_type": "markdown",
   "id": "a8bf8a87-64a1-4273-a1b4-d65ab48b9acb",
   "metadata": {},
   "source": [
    "Q1. What is the Probability density function?\n",
    "\n",
    "The Probability Density Function(PDF) defines the probability function representing the density of a continuous random variable lying between a specific range of values. In other words, the probability density function produces the likelihood of values of the continuous random variable."
   ]
  },
  {
   "cell_type": "markdown",
   "id": "2940dd21-374d-4b15-ae5a-b33d36e7bc57",
   "metadata": {},
   "source": [
    "Q2. What are the types of Probability distribution?\n",
    "\n",
    "There are two types of probability distributions: Discrete probability distributions. Continuous probability distributions"
   ]
  },
  {
   "cell_type": "markdown",
   "id": "0e549be0-0dc3-4d01-9dfe-19ad18b90c1d",
   "metadata": {},
   "source": [
    "Q3. Write a Python function to calculate the probability density function of a normal distribution with\n",
    "given mean and standard deviation at a given point."
   ]
  },
  {
   "cell_type": "code",
   "execution_count": 1,
   "id": "685a7a88-edd5-4552-943e-144d1d479d36",
   "metadata": {},
   "outputs": [],
   "source": [
    "import numpy as np\n",
    "\n",
    "binom_rand_var = np.random.binomial(50,0.4,1000)\n"
   ]
  },
  {
   "cell_type": "code",
   "execution_count": 2,
   "id": "378947f4-cc59-4399-b23f-540b05c54a3b",
   "metadata": {},
   "outputs": [],
   "source": [
    "import matplotlib.pyplot as plt\n"
   ]
  },
  {
   "cell_type": "code",
   "execution_count": 3,
   "id": "7229181a-68e0-4d97-8157-2b01a632ca7b",
   "metadata": {},
   "outputs": [
    {
     "data": {
      "text/plain": [
       "(array([ 13.,  38., 103., 288., 224., 177., 118.,  29.,   8.,   2.]),\n",
       " array([10. , 12.3, 14.6, 16.9, 19.2, 21.5, 23.8, 26.1, 28.4, 30.7, 33. ]),\n",
       " <BarContainer object of 10 artists>)"
      ]
     },
     "execution_count": 3,
     "metadata": {},
     "output_type": "execute_result"
    },
    {
     "data": {
      "image/png": "[encoded data removed]",
      "text/plain": [
       "<Figure size 640x480 with 1 Axes>"
      ]
     },
     "metadata": {},
     "output_type": "display_data"
    }
   ],
   "source": [
    "plt.hist(binom_rand_var)"
   ]
  },
  {
   "cell_type": "markdown",
   "id": "520b34d4-aa7a-4989-b9f8-ced258e8ebc1",
   "metadata": {},
   "source": [
    "Q6. Write a Python function to calculate the cumulative distribution function of a Poisson distribution\n",
    "with given mean at a given point."
   ]
  },
  {
   "cell_type": "code",
   "execution_count": 4,
   "id": "bb2ba4e7-5338-402c-a1e5-b87101e1677e",
   "metadata": {},
   "outputs": [],
   "source": [
    "import scipy.stats as st"
   ]
  },
  {
   "cell_type": "code",
   "execution_count": 5,
   "id": "95a4d76e-38b7-4ba9-95d8-fe78331c772d",
   "metadata": {},
   "outputs": [
    {
     "data": {
      "text/plain": [
       "3.3"
      ]
     },
     "execution_count": 5,
     "metadata": {},
     "output_type": "execute_result"
    }
   ],
   "source": [
    "data = st.poisson.rvs(mu=3, size=10)\n",
    "np.mean(data)"
   ]
  },
  {
   "cell_type": "code",
   "execution_count": 6,
   "id": "78a5d688-9d81-4b3a-bb6e-53a9e13c5ba4",
   "metadata": {},
   "outputs": [
    {
     "data": {
      "text/plain": [
       "array([0.99619701, 0.91608206, 0.64723189, 0.42319008, 0.42319008,\n",
       "       0.91608206, 0.42319008, 0.64723189, 0.64723189, 0.04978707])"
      ]
     },
     "execution_count": 6,
     "metadata": {},
     "output_type": "execute_result"
    }
   ],
   "source": [
    "st.poisson.cdf(data,3)"
   ]
  },
  {
   "cell_type": "code",
   "execution_count": 7,
   "id": "6c044932-e2a2-4ac7-a9fb-ea65d342ced1",
   "metadata": {},
   "outputs": [],
   "source": [
    "# Q7. How Binomial distribution different from Poisson distribution?\n",
    "\n",
    "\n",
    "\n",
    "# Binomial Distribution   \t                 `              Poisson Distribution\n",
    "\n",
    "# It is biparametric, i.e. it has 2 parameters n and p.\t     It is uniparametric, i.e. it has only 1 parameter m.\n",
    "\n",
    "# The number of attempts are fixed.                          The number of attempts are unlimited.\n",
    "\n",
    "# The probability of success is constant.\t                 The probability of success is extremely small.\n",
    "\n",
    "# There are only two possible outcomes-Success or failure.\t There are unlimited possible outcomes.\n",
    "\n",
    "# Mean>Variance\t                                             Mean=Variance"
   ]
  },
  {
   "cell_type": "markdown",
   "id": "7b60414f-2b90-4217-872f-d845ce38f393",
   "metadata": {},
   "source": [
    "Q8. Generate a random sample of size 1000 from a Poisson distribution with mean 5 and calculate the\n",
    "sample mean and variance."
   ]
  },
  {
   "cell_type": "code",
   "execution_count": 11,
   "id": "deb7a4c7-c202-4bb6-9f2d-f0cdeda7c4a3",
   "metadata": {},
   "outputs": [],
   "source": [
    "data = np.random.poisson(lam=5, size=1000)"
   ]
  },
  {
   "cell_type": "code",
   "execution_count": 16,
   "id": "bef2970a-4600-46e2-b025-f80fcd80b5dc",
   "metadata": {},
   "outputs": [
    {
     "data": {
      "text/plain": [
       "2.245553606574557"
      ]
     },
     "execution_count": 16,
     "metadata": {},
     "output_type": "execute_result"
    }
   ],
   "source": [
    "std = np.std(data)\n",
    "std"
   ]
  },
  {
   "cell_type": "code",
   "execution_count": 14,
   "id": "91449812-7685-462e-b8b7-fa161f344345",
   "metadata": {},
   "outputs": [],
   "source": [
    "sample_std = std/np.sqrt(1000)"
   ]
  },
  {
   "cell_type": "code",
   "execution_count": 15,
   "id": "8f4544fb-4e71-4c5d-bb9b-bc468c76c5c5",
   "metadata": {},
   "outputs": [
    {
     "data": {
      "text/plain": [
       "0.07101064004781256"
      ]
     },
     "execution_count": 15,
     "metadata": {},
     "output_type": "execute_result"
    }
   ],
   "source": [
    "sample_std"
   ]
  },
  {
   "cell_type": "code",
   "execution_count": 17,
   "id": "e0e35b47-b703-4d5f-bbcc-ce581b426a95",
   "metadata": {},
   "outputs": [],
   "source": [
    "var = sample_std **2"
   ]
  },
  {
   "cell_type": "code",
   "execution_count": 18,
   "id": "ca60680f-bfa3-4c88-b9b9-217dee9c5e31",
   "metadata": {},
   "outputs": [
    {
     "data": {
      "text/plain": [
       "0.005042511000000001"
      ]
     },
     "execution_count": 18,
     "metadata": {},
     "output_type": "execute_result"
    }
   ],
   "source": [
    "var"
   ]
  },
  {
   "cell_type": "markdown",
   "id": "513e54b1-0fdd-454e-becb-d256719026b3",
   "metadata": {},
   "source": [
    "Q9. How mean and variance are related in Binomial distribution and Poisson distribution?\n",
    "\n",
    "The mean and the variance of the Poisson distribution are the same, which is equal to the average number of successes that occur in the given interval of time.\n",
    "\n",
    "The mean and variance of the binomial distribution are: Mean = np. Variance = npq."
   ]
  },
  {
   "cell_type": "markdown",
   "id": "11b577e4-c5d3-4f80-ac53-3dbc26763b9b",
   "metadata": {},
   "source": [
    "Q10. In normal distribution with respect to mean position, where does the least frequent data appear?\n",
    "\n",
    "Away from the mean towards e."
   ]
  },
  {
   "cell_type": "code",
   "execution_count": null,
   "id": "751a37eb-efb3-4c57-8016-f905f83860a5",
   "metadata": {},
   "outputs": [],
   "source": []
  }
 ],
 "metadata": {
  "kernelspec": {
   "display_name": "Python 3 (ipykernel)",
   "language": "python",
   "name": "python3"
  },
  "language_info": {
   "codemirror_mode": {
    "name": "ipython",
    "version": 3
   },
   "file_extension": ".py",
   "mimetype": "text/x-python",
   "name": "python",
   "nbconvert_exporter": "python",
   "pygments_lexer": "ipython3",
   "version": "3.10.8"
  }
 },
 "nbformat": 4,
 "nbformat_minor": 5
}
