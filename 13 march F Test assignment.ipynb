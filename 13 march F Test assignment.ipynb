{
 "cells": [
  {
   "cell_type": "markdown",
   "id": "aae91e85-aae2-4ac3-8019-6c9034f9ae6d",
   "metadata": {},
   "source": [
    "Q1. Explain the assumptions required to use ANOVA and provide examples of violations that could impact\n",
    "the validity of the results."
   ]
  },
  {
   "cell_type": "markdown",
   "id": "f70c0537-c274-4a01-8978-134ec6d099e8",
   "metadata": {},
   "source": [
    "Assumptions required to use ANOVA and violations that could impact the validity of the results:\n",
    "\n",
    "#### Assumptions:\n",
    "\n",
    "Independence of observations\n",
    "\n",
    "Normality of the residuals\n",
    "\n",
    "Homogeneity of variances\n",
    "\n",
    "Random sampling from each group/population\n",
    "\n",
    "#### Violations:\n",
    "\n",
    "Non-independence of observations (e.g., repeated measures or clustering)\n",
    "\n",
    "Non-normality of the residuals (e.g., skewness or outliers)\n",
    "\n",
    "Heterogeneity of variances (e.g., unequal variances between groups)\n",
    "\n",
    "Non-random sampling (e.g., selection bias or confounding)\n",
    "\n",
    "Violations of these assumptions can lead to biased or inefficient estimates of the population \n",
    "parameters and incorrect inference about the statistical significance of the results."
   ]
  },
  {
   "cell_type": "markdown",
   "id": "82c4ae61-b6bf-48ed-ac0e-af6436fbe543",
   "metadata": {},
   "source": [
    "Q2. What are the three types of ANOVA, and in what situations would each be used?"
   ]
  },
  {
   "cell_type": "markdown",
   "id": "476dd4b2-7e16-47a4-9e68-45b8b282b9e3",
   "metadata": {},
   "source": [
    "Three types of ANOVA and their usage:\n",
    "\n",
    "#### One-way ANOVA: \n",
    "used to test for differences between two or more groups on a single continuous outcome variable.\n",
    "\n",
    "#### Two-way ANOVA:\n",
    "\n",
    "used to test for main and interaction effects of two categorical independent variables on a single continuous outcome variable.\n",
    "\n",
    "#### Three-way ANOVA:\n",
    "\n",
    "used to test for main and interaction effects of three categorical independent variables on a single continuous outcome variable."
   ]
  },
  {
   "cell_type": "markdown",
   "id": "1ae500c3-d918-438f-b909-7a70c6e542f3",
   "metadata": {},
   "source": [
    "Q3. What is the partitioning of variance in ANOVA, and why is it important to understand this concept?"
   ]
  },
  {
   "cell_type": "markdown",
   "id": "e694da47-cf71-4b79-9aa3-d60aa4cff9d7",
   "metadata": {},
   "source": [
    "Partitioning of variance refers to the decomposition of the total variability in the outcome variable into different sources of variability, such as between groups, within groups, and error. This is important because it helps to identify the relative contribution of each source of variability to the overall variance and to estimate the effect size of the independent variable(s) on the outcome variable."
   ]
  },
  {
   "cell_type": "markdown",
   "id": "46d41f3f-dc09-474e-adbf-28b29fcfa894",
   "metadata": {},
   "source": [
    "Q4. How would you calculate the total sum of squares (SST), explained sum of squares (SSE), and residual\n",
    "sum of squares (SSR) in a one-way ANOVA using Python?"
   ]
  },
  {
   "cell_type": "markdown",
   "id": "3b79a5d1-51a6-4835-b35b-ebf0dd1812d9",
   "metadata": {},
   "source": [
    "Calculation of SST, SSE, and SSR in a One-Way ANOVA using Python:\n",
    "To calculate SST, SSE, and SSR in a One-Way ANOVA using Python, we need to first import the necessary libraries and load the data into a DataFrame. Then we can calculate the mean of the dependent variable for each group, the overall mean, and the total sum of squares (SST)."
   ]
  },
  {
   "cell_type": "code",
   "execution_count": 1,
   "id": "14ec769b-53e0-4eb7-b80d-1592fdbcbfd8",
   "metadata": {},
   "outputs": [],
   "source": [
    "import pandas as pd\n",
    "import numpy as np\n",
    "import scipy.stats as stats\n",
    "\n",
    "# load data into DataFrame\n",
    "df = pd.read_csv('data.csv')\n",
    "\n",
    "# calculate mean of dependent variable for each group\n",
    "group_means = df.groupby('group')['dependent_variable'].mean()\n",
    "\n",
    "# calculate overall mean\n",
    "overall_mean = df['dependent_variable'].mean()\n",
    "\n",
    "# calculate total sum of squares (SST)\n",
    "SST = np.sum((df['dependent_variable'] - overall_mean)**2)\n",
    "\n",
    "# calculate explained sum of squares (SSE)\n",
    "SSE = np.sum((group_means - overall_mean)**2)\n",
    "\n",
    "# calculate residual sum of squares (SSR)\n",
    "SSR = SST - SSE"
   ]
  },
  {
   "cell_type": "markdown",
   "id": "e461a6e3-2371-489c-b4c7-da2be4d3721d",
   "metadata": {},
   "source": [
    "Q5. In a two-way ANOVA, how would you calculate the main effects and interaction effects using Python?"
   ]
  },
  {
   "cell_type": "code",
   "execution_count": 2,
   "id": "be49d34e-3a0f-448c-9c48-043f2e05ea0d",
   "metadata": {},
   "outputs": [],
   "source": [
    "import pandas as pd\n",
    "import numpy as np\n",
    "import statsmodels.api as sm\n",
    "from statsmodels.formula.api import ols\n",
    "\n",
    "load data into DataFrame\n",
    "df = pd.read_csv('data.csv')\n",
    "\n",
    "# perform Two-Way ANOVA\n",
    "model = ols('dependent_variable ~ C(factor1) + C(factor2) + C(factor1):C(factor2)', data=df).fit()\n",
    "anova_table = sm.stats.anova_lm(model, typ=2)\n",
    "\n",
    "# extract main effects and interaction effects\n",
    "main_effect_factor1 = anova_table.loc['C(factor1)', 'sum_sq']\n",
    "main_effect_factor2 = anova_table.loc['C(factor2)', 'sum_sq']\n",
    "interaction_effect = anova_table.loc['C(factor1):C(factor2)', 'sum_sq']\n",
    "\n"
   ]
  },
  {
   "cell_type": "markdown",
   "id": "c8d3b56d-ee3f-4521-9cff-8e3b584c649b",
   "metadata": {},
   "source": [
    "Q6. Suppose you conducted a one-way ANOVA and obtained an F-statistic of 5.23 and a p-value of 0.02.\n",
    "What can you conclude about the differences between the groups, and how would you interpret these\n",
    "results?"
   ]
  },
  {
   "cell_type": "markdown",
   "id": "386a4c3e-77c9-403a-a8c5-d8192fcefa74",
   "metadata": {},
   "source": [
    "### Interpretation of Results from a One-Way ANOVA:\n",
    "\n",
    "A One-Way ANOVA tests whether there are significant differences in the means of three or more groups. In this case, the F-statistic is 5.23 and the p-value is 0.02. The p-value is less than the significance level of 0.05, which indicates that there is a significant difference between the means of at least two of the groups. Therefore, we can conclude that there are significant differences between the groups. The F-statistic of 5.23 tells us how much larger the variation between the group means is compared to the variation within the groups. The higher the F-statistic, the larger the difference between the groups."
   ]
  },
  {
   "cell_type": "markdown",
   "id": "6c586853-b54f-4d7b-a93c-bb2b901ce3b3",
   "metadata": {},
   "source": [
    "Q7. In a repeated measures ANOVA, how would you handle missing data, and what are the potential\n",
    "consequences of using different methods to handle missing data?"
   ]
  },
  {
   "cell_type": "markdown",
   "id": "70080b9b-3774-4825-b68e-a1616681fc2a",
   "metadata": {},
   "source": [
    "Handling Missing Data in Repeated Measures ANOVA:\n",
    "In a repeated measures ANOVA, missing data can occur when a participant fails to complete one or more measurements. To handle missing data, there are several methods that can be used, such as pairwise deletion, listwise deletion, mean substitution, and maximum likelihood estimation.\n",
    "\n",
    "#### Pairwise deletion: \n",
    "The analysis is conducted on only the complete cases, and any missing values are ignored. This can lead to loss of power and biased estimates if the missing data is not missing completely at random (MCAR).\n",
    "\n",
    "#### Listwise deletion: \n",
    "The analysis is conducted on only the participants with complete data, and any participants with missing values are excluded."
   ]
  },
  {
   "cell_type": "markdown",
   "id": "ab222836-9093-41a9-b3ad-e32793ad5057",
   "metadata": {},
   "source": [
    "Q8. What are some common post-hoc tests used after ANOVA, and when would you use each one? Provide\n",
    "an example of a situation where a post-hoc test might be necessary.\n",
    "\n",
    "\n",
    "Common Post-Hoc tests and their usage:\n",
    "\n",
    "Tukey's HSD: used to compare all possible pairs of group means.\n",
    "\n",
    "Bonferroni: used to control for type I error rates when multiple pairwise comparisons are made.\n",
    "\n",
    "Scheffe: used when there are more than two groups and the assumption of homogeneity of variance is violated.\n",
    "\n",
    "Dunnett: used to compare multiple groups with a control group.\n",
    "\n",
    "A post-hoc test is necessary when a significant difference is found in the ANOVA, and there are more than two groups being compared."
   ]
  },
  {
   "cell_type": "markdown",
   "id": "d97e0ba0-d2b7-4872-aee4-73da6f88190c",
   "metadata": {},
   "source": [
    "Q9. A researcher wants to compare the mean weight loss of three diets: A, B, and C. They collect data from\n",
    "50 participants who were randomly assigned to one of the diets. Conduct a one-way ANOVA using Python\n",
    "to determine if there are any significant differences between the mean weight loss of the three diets.\n",
    "Report the F-statistic and p-value, and interpret the results."
   ]
  },
  {
   "cell_type": "code",
   "execution_count": 3,
   "id": "14cccf15-b85c-48e6-9dda-5751ad1f7e9c",
   "metadata": {},
   "outputs": [],
   "source": [
    "import pandas as pd\n",
    "import scipy.stats as stats\n",
    "\n",
    "data = pd.read_csv(\"data.csv\")\n",
    "\n",
    "F, p = stats.f_oneway(data['A'], data['B'], data['C'])\n",
    "print(\"F-statistic:\", F)\n",
    "print(\"p-value:\", p)"
   ]
  },
  {
   "cell_type": "markdown",
   "id": "28cba9e5-713e-41b3-8c27-28c3bf699b13",
   "metadata": {},
   "source": [
    "The output will show the F-statistic and p-value. The researcher can interpret the results by comparing the p-value to the significance level (e.g., 0.05) and determine whether to reject the null hypothesis (there are no significant differences between the means) or not."
   ]
  },
  {
   "cell_type": "markdown",
   "id": "2fdc5fb8-045e-4745-bc3c-9fca6c31246a",
   "metadata": {},
   "source": [
    "Q10. A company wants to know if there are any significant differences in the average time it takes to\n",
    "complete a task using three different software programs: Program A, Program B, and Program C. They\n",
    "randomly assign 30 employees to one of the programs and record the time it takes each employee to\n",
    "complete the task. Conduct a two-way ANOVA using Python to determine if there are any main effects or\n",
    "interaction effects between the software programs and employee experience level (novice vs.\n",
    "experienced). Report the F-statistics and p-values, and interpret the results."
   ]
  },
  {
   "cell_type": "code",
   "execution_count": 4,
   "id": "97137ea1-b23e-4755-b47e-dd28f336ec6c",
   "metadata": {
    "tags": []
   },
   "outputs": [],
   "source": [
    "import pandas as pd\n",
    "\n",
    "import statsmodels.api as sm\n",
    "\n",
    "from statsmodels.formula.api import ols\n",
    "\n",
    "data = pd.read_csv(\"data.csv\")\n",
    "\n",
    "model = ols('Time ~ Software + Experience + Software:Experience', data).fit()\n",
    "\n",
    "anova_table = sm.stats.anova_lm(model, typ=2)\n",
    "\n",
    "print(anova_table)\n"
   ]
  },
  {
   "cell_type": "markdown",
   "id": "2eeb2cb1-10ce-494e-8bec-caf37b1a8fdc",
   "metadata": {},
   "source": [
    "The output will show the F-statistics and p-values for the main effects and interaction effect. The researcher can interpret the results by comparing the p-values to the significance level and determine whether to reject the null hypothesis (there are no significant effects) or not."
   ]
  },
  {
   "cell_type": "markdown",
   "id": "a8f39276-e157-468e-b03e-8a6381274ab7",
   "metadata": {},
   "source": [
    "Q11. An educational researcher is interested in whether a new teaching method improves student test\n",
    "scores. They randomly assign 100 students to either the control group (traditional teaching method) or the\n",
    "experimental group (new teaching method) and administer a test at the end of the semester. Conduct a\n",
    "two-sample t-test using Python to determine if there are any significant differences in test scores\n",
    "between the two groups. If the results are significant, follow up with a post-hoc test to determine which\n",
    "group(s) differ significantly from each other.\n",
    "\n"
   ]
  },
  {
   "cell_type": "code",
   "execution_count": 5,
   "id": "110c34f8-86f2-46d9-9096-9650c93079c7",
   "metadata": {},
   "outputs": [],
   "source": [
    "import pandas as pd\n",
    "import scipy.stats as stats\n",
    "\n",
    "data = pd.read_csv(\"data.csv\")\n",
    "\n",
    "control = data[data['Group']=='Control']['Scores']\n",
    "experimental = data[data['Group']=='Experimental']['Scores']\n",
    "\n",
    "t, p = stats.ttest_ind(control, experimental)\n",
    "print(\"t-statistic:\", t)\n",
    "print(\"p-value:\", p)"
   ]
  },
  {
   "cell_type": "markdown",
   "id": "47fed6ce-348e-4b6a-b688-ace559311f8f",
   "metadata": {},
   "source": [
    "The output will show the t-statistic and p-value. If the p-value is less than the significance level, the researcher can conclude that there is a significant difference in test scores between the two groups. The researcher can then perform a post-hoc test to determine which group(s) differ significantly from each other."
   ]
  },
  {
   "cell_type": "markdown",
   "id": "a127d024-36ef-4446-aecf-da8c551e2c85",
   "metadata": {},
   "source": [
    "Q12. A researcher wants to know if there are any significant differences in the average daily sales of three\n",
    "retail stores: Store A, Store B, and Store C. They randomly select 30 days and record the sales for each store\n",
    "on those days. Conduct a repeated measures ANOVA using Python to determine if there are any\n",
    "\n",
    "significant differences in sales between the three stores. If the results are significant, follow up with a post-\n",
    "hoc test to determine which store(s) differ significantly from each other.\n"
   ]
  },
  {
   "cell_type": "code",
   "execution_count": 6,
   "id": "f7e00347-812b-44c3-a101-9a40f1822971",
   "metadata": {},
   "outputs": [],
   "source": [
    "import pandas as pd\n",
    "import statsmodels.api as sm\n",
    "from statsmodels.formula.api import ols\n",
    "\n",
    "data = pd.read_csv(\"data.csv\")\n",
    "\n",
    "model = ols('Sales ~ Store', data).fit()\n",
    "anova_table = sm.stats.anova_lm(model, typ=2)\n",
    "\n",
    "print(anova_table)\n"
   ]
  },
  {
   "cell_type": "markdown",
   "id": "73e83417-d5d7-4cf2-81ef-ee3661f6a1af",
   "metadata": {},
   "source": [
    "The output will show the F-statistic and p-value for the repeated measures ANOVA. If the p-value is less than the significance level, the researcher can conclude that there is a significant difference in sales between the three stores. The researcher can then perform a post-hoc test to determine which store(s) differ significantly from each other. If there is missing data, the researcher can handle it using methods like listwise deletion, imputation, or mixed models. However, the choice of method can affect the results and the conclusions drawn from them."
   ]
  },
  {
   "cell_type": "code",
   "execution_count": null,
   "id": "c0f1d408-d17e-457e-bfd6-df504d9f68b6",
   "metadata": {},
   "outputs": [],
   "source": []
  }
 ],
 "metadata": {
  "kernelspec": {
   "display_name": "Python 3 (ipykernel)",
   "language": "python",
   "name": "python3"
  },
  "language_info": {
   "codemirror_mode": {
    "name": "ipython",
    "version": 3
   },
   "file_extension": ".py",
   "mimetype": "text/x-python",
   "name": "python",
   "nbconvert_exporter": "python",
   "pygments_lexer": "ipython3",
   "version": "3.10.8"
  }
 },
 "nbformat": 4,
 "nbformat_minor": 5
}
