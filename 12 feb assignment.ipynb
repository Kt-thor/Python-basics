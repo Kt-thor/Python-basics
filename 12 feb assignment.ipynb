{
 "cells": [
  {
   "cell_type": "markdown",
   "id": "7efa2180-575e-4105-8cfb-fba326617d91",
   "metadata": {},
   "source": [
    "Ans 1:"
   ]
  },
  {
   "cell_type": "markdown",
   "id": "f487871a-450b-4adb-b6f2-8f3bc012ffee",
   "metadata": {},
   "source": [
    "Exceptions are errors that happen during execution of the program. Python won’t tell you about errors like syntax errors (grammar faults), instead it will abruptly stop.\n",
    "\n",
    "An abrupt exit is bad for both the end user and developer.\n",
    "syntax errors are the basically caused the errors while parsing the script"
   ]
  },
  {
   "cell_type": "markdown",
   "id": "0e5d2d2e-06b3-48c6-bbb9-c2caace9b300",
   "metadata": {},
   "source": [
    "Ans 2:"
   ]
  },
  {
   "cell_type": "markdown",
   "id": "36268ac4-6d52-40a4-922c-15549cac167b",
   "metadata": {},
   "source": [
    "if exception is not handled the program will give the error and after that error line no next line will be executed ,will crash the program.\n",
    "for eg."
   ]
  },
  {
   "cell_type": "code",
   "execution_count": 2,
   "id": "0062dd42-b656-4401-a947-556dac1de4f2",
   "metadata": {},
   "outputs": [
    {
     "ename": "FileNotFoundError",
     "evalue": "[Errno 2] No such file or directory: 'test.txt'",
     "output_type": "error",
     "traceback": [
      "\u001b[0;31m---------------------------------------------------------------------------\u001b[0m",
      "\u001b[0;31mFileNotFoundError\u001b[0m                         Traceback (most recent call last)",
      "Cell \u001b[0;32mIn[2], line 1\u001b[0m\n\u001b[0;32m----> 1\u001b[0m f \u001b[38;5;241m=\u001b[39m \u001b[38;5;28;43mopen\u001b[39;49m\u001b[43m(\u001b[49m\u001b[38;5;124;43m\"\u001b[39;49m\u001b[38;5;124;43mtest.txt\u001b[39;49m\u001b[38;5;124;43m\"\u001b[39;49m\u001b[43m,\u001b[49m\u001b[38;5;124;43m\"\u001b[39;49m\u001b[38;5;124;43mr\u001b[39;49m\u001b[38;5;124;43m\"\u001b[39;49m\u001b[43m)\u001b[49m\n",
      "File \u001b[0;32m/opt/conda/lib/python3.10/site-packages/IPython/core/interactiveshell.py:282\u001b[0m, in \u001b[0;36m_modified_open\u001b[0;34m(file, *args, **kwargs)\u001b[0m\n\u001b[1;32m    275\u001b[0m \u001b[38;5;28;01mif\u001b[39;00m file \u001b[38;5;129;01min\u001b[39;00m {\u001b[38;5;241m0\u001b[39m, \u001b[38;5;241m1\u001b[39m, \u001b[38;5;241m2\u001b[39m}:\n\u001b[1;32m    276\u001b[0m     \u001b[38;5;28;01mraise\u001b[39;00m \u001b[38;5;167;01mValueError\u001b[39;00m(\n\u001b[1;32m    277\u001b[0m         \u001b[38;5;124mf\u001b[39m\u001b[38;5;124m\"\u001b[39m\u001b[38;5;124mIPython won\u001b[39m\u001b[38;5;124m'\u001b[39m\u001b[38;5;124mt let you open fd=\u001b[39m\u001b[38;5;132;01m{\u001b[39;00mfile\u001b[38;5;132;01m}\u001b[39;00m\u001b[38;5;124m by default \u001b[39m\u001b[38;5;124m\"\u001b[39m\n\u001b[1;32m    278\u001b[0m         \u001b[38;5;124m\"\u001b[39m\u001b[38;5;124mas it is likely to crash IPython. If you know what you are doing, \u001b[39m\u001b[38;5;124m\"\u001b[39m\n\u001b[1;32m    279\u001b[0m         \u001b[38;5;124m\"\u001b[39m\u001b[38;5;124myou can use builtins\u001b[39m\u001b[38;5;124m'\u001b[39m\u001b[38;5;124m open.\u001b[39m\u001b[38;5;124m\"\u001b[39m\n\u001b[1;32m    280\u001b[0m     )\n\u001b[0;32m--> 282\u001b[0m \u001b[38;5;28;01mreturn\u001b[39;00m \u001b[43mio_open\u001b[49m\u001b[43m(\u001b[49m\u001b[43mfile\u001b[49m\u001b[43m,\u001b[49m\u001b[43m \u001b[49m\u001b[38;5;241;43m*\u001b[39;49m\u001b[43margs\u001b[49m\u001b[43m,\u001b[49m\u001b[43m \u001b[49m\u001b[38;5;241;43m*\u001b[39;49m\u001b[38;5;241;43m*\u001b[39;49m\u001b[43mkwargs\u001b[49m\u001b[43m)\u001b[49m\n",
      "\u001b[0;31mFileNotFoundError\u001b[0m: [Errno 2] No such file or directory: 'test.txt'"
     ]
    }
   ],
   "source": [
    "f = open(\"test.txt\",\"r\")\n",
    "#this is causng error"
   ]
  },
  {
   "cell_type": "code",
   "execution_count": 5,
   "id": "d8e4bcae-3179-4e4e-b745-48cc2a40a653",
   "metadata": {},
   "outputs": [
    {
     "name": "stdout",
     "output_type": "stream",
     "text": [
      "may be the file is having some problem in opening\n"
     ]
    }
   ],
   "source": [
    "#but after error handling\n",
    "try :\n",
    "    f = open(\"test.txt\",\"r\")\n",
    "except:\n",
    "    print(\"may be the file is having some problem in opening\")"
   ]
  },
  {
   "cell_type": "markdown",
   "id": "3e3a53ae-3c07-41b6-a0d5-d3c847dcc7a1",
   "metadata": {},
   "source": [
    "Ans 3:\n"
   ]
  },
  {
   "cell_type": "markdown",
   "id": "4b95fc9a-9cc9-4350-bf6f-228e46e3f8bb",
   "metadata": {},
   "source": [
    "Python statements that are used to catch and handle errors:\n",
    "\n",
    "    1: try :  will have error  block\n",
    "    \n",
    "    2: except : will exeute if error is found\n",
    "    \n",
    "    3: else : will execute if try is executed without error\n",
    "    \n",
    "    4: finally :  will always execute\n",
    "\n",
    "    "
   ]
  },
  {
   "cell_type": "code",
   "execution_count": 18,
   "id": "a4e714f3-0ed4-4a5b-9138-d2d9417235d9",
   "metadata": {},
   "outputs": [
    {
     "name": "stdin",
     "output_type": "stream",
     "text": [
      "enter a number : 10\n",
      "enter the divisor : 10\n"
     ]
    },
    {
     "name": "stdout",
     "output_type": "stream",
     "text": [
      "else will execute is try block will be executed\n",
      "finally will always get executed\n"
     ]
    }
   ],
   "source": [
    "try :\n",
    "    marks = int(input(\"enter a number :\"))\n",
    "    div  = int (input(\"enter the divisor :\"))\n",
    "    marks = marks/div\n",
    "except Exception as e:\n",
    "    print(\"error is :\",e)\n",
    "else:\n",
    "    print(\"else will execute is try block will be executed\")\n",
    "finally:\n",
    "    print(\"finally will always get executed\")"
   ]
  },
  {
   "cell_type": "markdown",
   "id": "477bb5ad-2988-455c-b5a3-30d26c60bd2a",
   "metadata": {},
   "source": [
    "Ans 4:"
   ]
  },
  {
   "cell_type": "markdown",
   "id": "27df57e4-fe1b-4556-9c8e-69860726e147",
   "metadata": {},
   "source": [
    "try and else :\n",
    "    try is the block of code where we put if error is going to be occured\n",
    "    else is the block that will be executed if try block will have no error.\n",
    "finally :\n",
    "    is always executed if there is error or not\n",
    "raise :\n",
    "    raise is used to raise custom error by using inheritance of parent class Exception."
   ]
  },
  {
   "cell_type": "code",
   "execution_count": 24,
   "id": "e260f981-f6b8-44ae-83a1-6e5f6887996f",
   "metadata": {},
   "outputs": [
    {
     "name": "stdout",
     "output_type": "stream",
     "text": [
      "may be some error\n",
      "else is not executed because try is having error\n"
     ]
    }
   ],
   "source": [
    "try :\n",
    "    a==b\n",
    "except:\n",
    "    print(\"may be some error\")\n",
    "else:\n",
    "    print(\"hello\")\n",
    "finally:\n",
    "    print(\"else is not executed because try is having error\")"
   ]
  },
  {
   "cell_type": "code",
   "execution_count": 26,
   "id": "efa043ab-e842-4311-b5c8-57cb1504e7f0",
   "metadata": {},
   "outputs": [
    {
     "name": "stdin",
     "output_type": "stream",
     "text": [
      "Enter your name ofsdd\n"
     ]
    },
    {
     "name": "stdout",
     "output_type": "stream",
     "text": [
      "Your name is nice\n"
     ]
    }
   ],
   "source": [
    "class error(Exception):\n",
    "    \n",
    "    def __init__(self,info):\n",
    "        self.info = info\n",
    "\n",
    "def custom (x):\n",
    "    if len(x) > 20:\n",
    "        raise error(\"Your name is very big\")\n",
    "    elif len(x)<=2:\n",
    "        raise error(\"Your name is very small\")\n",
    "try:\n",
    "    name = input(\"Enter your name\")\n",
    "    custom(name)\n",
    "except Exception as e:\n",
    "    print(e)\n",
    "else:\n",
    "    print(\"Your name is nice\")"
   ]
  },
  {
   "cell_type": "markdown",
   "id": "5f1d34ef-5e90-43af-abd2-3cdbdcc87587",
   "metadata": {},
   "source": [
    "Ans 5"
   ]
  },
  {
   "cell_type": "markdown",
   "id": "242f37ef-de34-4cc2-9ee0-d96d028367a2",
   "metadata": {},
   "source": [
    "An Exception is raised whenever there is an error encountered, and it signifies that something went wrong with the program. By default, there are many exceptions that the language defines for us, such as TypeError when the wrong type is passed. In this article, we shall look at how we can create our own Custom Exceptions in Python."
   ]
  },
  {
   "cell_type": "code",
   "execution_count": 27,
   "id": "2238e84f-4fe7-49ab-85c4-0ce4b92456c5",
   "metadata": {},
   "outputs": [
    {
     "name": "stdin",
     "output_type": "stream",
     "text": [
      "Enter your password bhsdbhds\n"
     ]
    },
    {
     "name": "stdout",
     "output_type": "stream",
     "text": [
      "Your password length is not strong\n"
     ]
    }
   ],
   "source": [
    "class error(Exception):\n",
    "    \n",
    "    def __init__(self,msg):\n",
    "        self.msg = msg\n",
    "def custom_handle(pas):\n",
    "    if len(pas)<10:\n",
    "        raise error(\"Your password length is not strong\")\n",
    "    else:\n",
    "        raise error(\"Your password is strong\")\n",
    "try :\n",
    "    pas = input(\"Enter your password\")\n",
    "    custom_handle(pas)\n",
    "except Exception as e:\n",
    "    print(e)"
   ]
  },
  {
   "cell_type": "markdown",
   "id": "401e2cfe-6f87-4fc6-9921-32da5f2e3a2e",
   "metadata": {},
   "source": [
    "Ans 6"
   ]
  },
  {
   "cell_type": "code",
   "execution_count": 15,
   "id": "a94d6895-e3ae-46b5-9329-b4bc261894fa",
   "metadata": {},
   "outputs": [],
   "source": [
    "class error(Exception):\n",
    "    \n",
    "    def __init__(self,msg):\n",
    "        self.msg = msg"
   ]
  },
  {
   "cell_type": "code",
   "execution_count": 16,
   "id": "40eb7086-1da1-401e-b17d-2f4c804d8450",
   "metadata": {},
   "outputs": [],
   "source": [
    "def custom_handle(pas):\n",
    "    if len(pas)<10:\n",
    "        raise error(\"Your password length is not strong\")\n",
    "    else:\n",
    "        raise error(\"Your password is strong\")"
   ]
  },
  {
   "cell_type": "code",
   "execution_count": 17,
   "id": "4114db95-a4a1-49e7-9664-6b664ad87658",
   "metadata": {},
   "outputs": [
    {
     "name": "stdin",
     "output_type": "stream",
     "text": [
      "Enter your password uhesf\n"
     ]
    },
    {
     "name": "stdout",
     "output_type": "stream",
     "text": [
      "Your password length is not strong\n"
     ]
    }
   ],
   "source": [
    "try :\n",
    "    pas = input(\"Enter your password\")\n",
    "    custom_handle(pas)\n",
    "except Exception as e:\n",
    "    print(e)"
   ]
  },
  {
   "cell_type": "code",
   "execution_count": null,
   "id": "713d2e0f-8e57-404c-97ae-0e065ed83f28",
   "metadata": {},
   "outputs": [],
   "source": []
  }
 ],
 "metadata": {
  "kernelspec": {
   "display_name": "Python 3 (ipykernel)",
   "language": "python",
   "name": "python3"
  },
  "language_info": {
   "codemirror_mode": {
    "name": "ipython",
    "version": 3
   },
   "file_extension": ".py",
   "mimetype": "text/x-python",
   "name": "python",
   "nbconvert_exporter": "python",
   "pygments_lexer": "ipython3",
   "version": "3.10.8"
  }
 },
 "nbformat": 4,
 "nbformat_minor": 5
}
