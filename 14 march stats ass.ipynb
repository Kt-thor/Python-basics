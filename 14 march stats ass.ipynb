{
 "cells": [
  {
   "cell_type": "markdown",
   "id": "21210f17-5a2d-46aa-b8a7-71bda9056440",
   "metadata": {},
   "source": [
    "Q1. Write a Python function that takes in two arrays of data and calculates the F-value for a variance ratio\n",
    "test. The function should return the F-value and the corresponding p-value for the test."
   ]
  },
  {
   "cell_type": "code",
   "execution_count": 1,
   "id": "cc48a390-6add-4282-accc-5c9c9f9916fd",
   "metadata": {},
   "outputs": [
    {
     "name": "stdout",
     "output_type": "stream",
     "text": [
      "F-value: 0.6756756756756757\n",
      "p-value: 0.356651337652311\n"
     ]
    }
   ],
   "source": [
    "import numpy as np\n",
    "from scipy.stats import f\n",
    "\n",
    "def variance_ratio_test(arr1, arr2):\n",
    "    n1 = len(arr1)\n",
    "    n2 = len(arr2)\n",
    "    mean1 = np.mean(arr1)\n",
    "    mean2 = np.mean(arr2)\n",
    "    var1 = np.var(arr1, ddof=1)\n",
    "    var2 = np.var(arr2, ddof=1)\n",
    "    f_stat = var1/var2\n",
    "    p_val = f.cdf(f_stat, n1-1, n2-1)\n",
    "    return f_stat, p_val\n",
    "\n",
    "\n",
    "arr1 = [1, 2, 3, 4, 5]\n",
    "arr2 = [1, 2, 3, 4, 6]\n",
    "f_val, p_val = variance_ratio_test(arr1, arr2)\n",
    "print(\"F-value:\", f_val)\n",
    "print(\"p-value:\", p_val)\n"
   ]
  },
  {
   "cell_type": "markdown",
   "id": "a02d45e1-1bbb-4232-8d2d-e6c06c6e0f6e",
   "metadata": {},
   "source": [
    "Q2. Given a significance level of 0.05 and the degrees of freedom for the numerator and denominator of an\n",
    "F-distribution, write a Python function that returns the critical F-value for a two-tailed test."
   ]
  },
  {
   "cell_type": "code",
   "execution_count": 2,
   "id": "1a3c1ff1-7cdd-4e15-a977-dd72dd51fc76",
   "metadata": {},
   "outputs": [
    {
     "data": {
      "text/plain": [
       "5.456395525912731"
      ]
     },
     "execution_count": 2,
     "metadata": {},
     "output_type": "execute_result"
    }
   ],
   "source": [
    "from scipy.stats import f\n",
    "\n",
    "def critical_f_value(numerator_df, denominator_df, alpha=0.05):\n",
    "    # Calculate the critical F-value using the ppf function from the f distribution\n",
    "    # The F-distribution takes the numerator and denominator degrees of freedom as parameters\n",
    "    # The ppf function calculates the value of F for a given cumulative probability (1 - alpha/2 for a two-tailed test)\n",
    "    # and returns the value of F for which the cumulative probability is equal to that value\n",
    "    return f.ppf(1 - alpha/2, numerator_df, denominator_df)\n",
    "\n",
    "critical_f_value(2, 10)\n",
    "\n"
   ]
  },
  {
   "cell_type": "markdown",
   "id": "ed737fd7-48db-4ee9-836d-16fd90e20305",
   "metadata": {},
   "source": [
    "Q3. Write a Python program that generates random samples from two normal distributions with known\n",
    "\n",
    "variances and uses an F-test to determine if the variances are equal. The program should output the F-\n",
    "value, degrees of freedom, and p-value for the test."
   ]
  },
  {
   "cell_type": "code",
   "execution_count": 3,
   "id": "922cf98a-e91a-4b28-b103-597c827d4a56",
   "metadata": {},
   "outputs": [
    {
     "name": "stdout",
     "output_type": "stream",
     "text": [
      "F-value: 0.6184089200351394\n",
      "Degrees of freedom (numerator, denominator): 29 29\n",
      "P-value: 0.20162963764723701\n"
     ]
    }
   ],
   "source": [
    "import numpy as np\n",
    "from scipy.stats import f\n",
    "\n",
    "# Set seed for reproducibility\n",
    "np.random.seed(123)\n",
    "\n",
    "# Generate random samples from two normal distributions with known variances\n",
    "n1 = 30\n",
    "n2 = 30\n",
    "mean1 = 0\n",
    "mean2 = 0\n",
    "var1 = 1\n",
    "var2 = 1.5\n",
    "\n",
    "sample1 = np.random.normal(loc=mean1, scale=np.sqrt(var1), size=n1)\n",
    "sample2 = np.random.normal(loc=mean2, scale=np.sqrt(var2), size=n2)\n",
    "\n",
    "# Perform F-test for equality of variances\n",
    "F = np.var(sample1, ddof=1) / np.var(sample2, ddof=1)\n",
    "dfn = n1 - 1\n",
    "dfd = n2 - 1\n",
    "p_value = 2 * min(f.cdf(F, dfn, dfd), 1 - f.cdf(F, dfn, dfd))\n",
    "\n",
    "# Output results\n",
    "print(\"F-value:\", F)\n",
    "print(\"Degrees of freedom (numerator, denominator):\", dfn, dfd)\n",
    "print(\"P-value:\", p_value)\n"
   ]
  },
  {
   "cell_type": "markdown",
   "id": "42fd0d3e-8610-4877-aa91-ad692d5e1ba7",
   "metadata": {},
   "source": [
    "In this example, we generate two random samples of size 30 each from normal distributions with known variances of 1 and 1.5, respectively. We then perform an F-test for equality of variances using the np.var and f.cdf functions from the scipy.stats module. Finally, we output the F-value, degrees of freedom, and p-value for the test.\n",
    "\n",
    "Note that the 2 * min(f.cdf(F, dfn, dfd), 1 - f.cdf(F, dfn, dfd)) expression is used to obtain the p-value for a two-tailed test, since we are testing the hypothesis that the variances are not equal. If you were testing the hypothesis that the variances are equal (i.e., a one-tailed test), you would only need to use f.cdf(F, dfn, dfd) or 1 - f.cdf(F, dfn, dfd) depending on the direction of the test."
   ]
  },
  {
   "cell_type": "markdown",
   "id": "858d2067-82a2-4c83-a7b2-2eaa6d27db1b",
   "metadata": {},
   "source": [
    "Q4.The variances of two populations are known to be 10 and 15. A sample of 12 observations is taken from\n",
    "each population. Conduct an F-test at the 5% significance level to determine if the variances are\n",
    "significantly different.\n",
    "\n",
    "we can conduct an F-test to determine if the variances of two populations are significantly different. Here's how we can do it step-by-step:\n",
    "\n",
    "State the null and alternative hypotheses:\n",
    "\n",
    "Null hypothesis: The variances of the two populations are equal.\n",
    "Alternative hypothesis: The variances of the two populations are significantly different.\n",
    "Set the significance level to 0.05.\n",
    "\n",
    "Determine the critical F-value using the scipy.stats module. For a two-tailed test with 11 degrees of freedom in the numerator (12-1) and 10 degrees of freedom in the denominator (the smaller sample size minus 1), the critical F-value at a 5% significance level is:"
   ]
  },
  {
   "cell_type": "code",
   "execution_count": 4,
   "id": "c7947864-9e1d-4886-8fe8-a0b5c35d766f",
   "metadata": {},
   "outputs": [
    {
     "name": "stdout",
     "output_type": "stream",
     "text": [
      "Critical F-value: 3.6649139653923886\n"
     ]
    }
   ],
   "source": [
    "from scipy.stats import f\n",
    "\n",
    "alpha = 0.05\n",
    "dfn = 11\n",
    "dfd = 10\n",
    "critical_f = f.ppf(1 - alpha/2, dfn, dfd)\n",
    "print(\"Critical F-value:\", critical_f)\n"
   ]
  },
  {
   "cell_type": "code",
   "execution_count": 5,
   "id": "26a6bb89-2f13-444b-a8ab-afc0bd09b521",
   "metadata": {},
   "outputs": [
    {
     "name": "stdout",
     "output_type": "stream",
     "text": [
      "Sample 1 variance: 7.437411933554833\n",
      "Sample 2 variance: 23.163695048506494\n",
      "Test statistic F: 0.32108054945380443\n"
     ]
    }
   ],
   "source": [
    "import numpy as np\n",
    "\n",
    "sample_size = 12\n",
    "\n",
    "# Sample from the first population\n",
    "sample1 = np.random.normal(loc=0, scale=np.sqrt(10), size=sample_size)\n",
    "var1 = np.var(sample1, ddof=1)\n",
    "\n",
    "# Sample from the second population\n",
    "sample2 = np.random.normal(loc=0, scale=np.sqrt(15), size=sample_size)\n",
    "var2 = np.var(sample2, ddof=1)\n",
    "\n",
    "# Calculate the test statistic F\n",
    "F = var1 / var2\n",
    "print(\"Sample 1 variance:\", var1)\n",
    "print(\"Sample 2 variance:\", var2)\n",
    "print(\"Test statistic F:\", F)\n"
   ]
  },
  {
   "cell_type": "code",
   "execution_count": 6,
   "id": "ceb4a346-c4e5-408a-aced-5f5d10071450",
   "metadata": {},
   "outputs": [
    {
     "name": "stdout",
     "output_type": "stream",
     "text": [
      "Fail to reject null hypothesis.\n"
     ]
    }
   ],
   "source": [
    "if F > critical_f or F < 1/critical_f:\n",
    "    print(\"Reject null hypothesis in favor of alternative hypothesis.\")\n",
    "else:\n",
    "    print(\"Fail to reject null hypothesis.\")\n"
   ]
  },
  {
   "cell_type": "markdown",
   "id": "3c6ebb58-8196-4b56-a327-b14ade871bad",
   "metadata": {},
   "source": [
    "Q5. A manufacturer claims that the variance of the diameter of a certain product is 0.005. A sample of 25\n",
    "products is taken, and the sample variance is found to be 0.006. Conduct an F-test at the 1% significance\n",
    "level to determine if the claim is justified.\n",
    "\n",
    "we can conduct an F-test to determine if the manufacturer's claim about the variance of the diameter of a certain product is justified. Here's how we can do it step-by-step:\n",
    "\n",
    "State the null and alternative hypotheses:\n",
    "\n",
    "Null hypothesis: The population variance is equal to 0.005.\n",
    "Alternative hypothesis: The population variance is greater than 0.005.\n",
    "Set the significance level to 0.01.\n",
    "\n",
    "Determine the critical F-value using the scipy.stats module. For a one-tailed test with 24 degrees of freedom in the numerator (25-1) and 1 degree of freedom in the denominator (the sample size minus 1), the critical F-value at a 1% significance level is:\n",
    "\n",
    "python\n",
    "Copy code"
   ]
  },
  {
   "cell_type": "code",
   "execution_count": 7,
   "id": "1174228c-5a5d-4a1e-bab2-5c5817b16aef",
   "metadata": {},
   "outputs": [
    {
     "name": "stdout",
     "output_type": "stream",
     "text": [
      "Critical F-value: 6234.6308935330835\n"
     ]
    }
   ],
   "source": [
    "from scipy.stats import f\n",
    "\n",
    "alpha = 0.01\n",
    "dfn = 24\n",
    "dfd = 1\n",
    "critical_f = f.ppf(1 - alpha, dfn, dfd)\n",
    "print(\"Critical F-value:\", critical_f)\n"
   ]
  },
  {
   "cell_type": "code",
   "execution_count": 8,
   "id": "8a4ae8bc-59be-4bc3-ace5-29e912c89414",
   "metadata": {},
   "outputs": [
    {
     "name": "stdout",
     "output_type": "stream",
     "text": [
      "Sample variance: 0.006\n",
      "Test statistic F: 1.2\n"
     ]
    }
   ],
   "source": [
    "sample_size = 25\n",
    "sample_var = 0.006\n",
    "\n",
    "# Calculate the test statistic F\n",
    "F = sample_var / 0.005\n",
    "print(\"Sample variance:\", sample_var)\n",
    "print(\"Test statistic F:\", F)\n"
   ]
  },
  {
   "cell_type": "code",
   "execution_count": 9,
   "id": "e4a485fd-b69d-456f-8021-11c73f251fee",
   "metadata": {},
   "outputs": [
    {
     "name": "stdout",
     "output_type": "stream",
     "text": [
      "Fail to reject null hypothesis.\n"
     ]
    }
   ],
   "source": [
    "if F > critical_f:\n",
    "    print(\"Reject null hypothesis in favor of alternative hypothesis.\")\n",
    "else:\n",
    "    print(\"Fail to reject null hypothesis.\")\n"
   ]
  },
  {
   "cell_type": "markdown",
   "id": "5f12c34d-8334-4760-ad18-ce9078f20321",
   "metadata": {},
   "source": [
    "Q6. Write a Python function that takes in the degrees of freedom for the numerator and denominator of an\n",
    "F-distribution and calculates the mean and variance of the distribution. The function should return the\n",
    "mean and variance as a tuple."
   ]
  },
  {
   "cell_type": "code",
   "execution_count": 10,
   "id": "b7c9ed3c-0dfe-44db-bcac-30f506292eb3",
   "metadata": {},
   "outputs": [],
   "source": [
    "def mean_var_f_distribution(dfn, dfd):\n",
    "    \n",
    "    if dfn <= 0 or dfd <= 0:\n",
    "        raise ValueError(\"Degrees of freedom must be positive.\")\n",
    "\n",
    "    mean = dfd / (dfd - 2)\n",
    "    variance = (2 * (dfd ** 2) * (dfn + dfd - 2)) / (dfn * (dfd - 2) ** 2 * (dfd - 4))\n",
    "\n",
    "    return mean, variance\n"
   ]
  },
  {
   "cell_type": "code",
   "execution_count": 13,
   "id": "ea424152-704d-4f1b-8309-dc880a1d3fe9",
   "metadata": {},
   "outputs": [
    {
     "data": {
      "text/plain": [
       "(1.1111111111111112, 0.43209876543209874)"
      ]
     },
     "execution_count": 13,
     "metadata": {},
     "output_type": "execute_result"
    }
   ],
   "source": [
    "mean_var_f_distribution(10,20)"
   ]
  },
  {
   "cell_type": "markdown",
   "id": "eb700344-221a-40e3-9627-9053a1827823",
   "metadata": {},
   "source": [
    "\n",
    "Q7. A random sample of 10 measurements is taken from a normal population with unknown variance. The\n",
    "sample variance is found to be 25. Another random sample of 15 measurements is taken from another\n",
    "normal population with unknown variance, and the sample variance is found to be 20. Conduct an F-test\n",
    "at the 10% significance level to determine if the variances are significantly different.To conduct an F-test for equality of variances, we use the following null and alternative hypotheses:\n",
    "\n",
    "\n",
    "\n",
    "H0: The variances of the two populations are equal.\n",
    "Ha: The variances of the two populations are not equal.\n",
    "\n",
    "We use the F-statistic to test the null hypothesis, which is defined as the ratio of the sample variances:\n",
    "\n",
    "F = s1^2 / s2^2\n",
    "\n",
    "where s1^2 and s2^2 are the sample variances from the first and second populations, respectively.\n",
    "\n",
    "Under the null hypothesis, the F-statistic follows an F-distribution with degrees of freedom (df1, df2), where df1 = n1 - 1 and df2 = n2 - 1 are the degrees of freedom for the two samples.\n",
    "\n",
    "To conduct the F-test at the 10% significance level, we first calculate the F-statistic as follows:\n",
    "\n",
    "F = 25 / 20 = 1.25\n",
    "\n",
    "Next, we calculate the critical value of F with df1 = 9 and df2 = 14 at the 10% significance level using a statistical table or calculator. The critical value of F is found to be 2.44.\n",
    "\n",
    "Since the calculated F-statistic of 1.25 is less than the critical value of 2.44, we fail to reject the null hypothesis. Therefore, we do not have sufficient evidence to conclude that the variances of the two populations are significantly different at the 10% significance level."
   ]
  },
  {
   "cell_type": "markdown",
   "id": "8c8f48fc-095a-4742-97cc-42b4cfbac882",
   "metadata": {},
   "source": [
    "Q8. The following data represent the waiting times in minutes at two different restaurants on a Saturday\n",
    "night: Restaurant A: 24, 25, 28, 23, 22, 20, 27; Restaurant B: 31, 33, 35, 30, 32, 36. Conduct an F-test at the 5%\n",
    "significance level to determine if the variances are significantly different."
   ]
  },
  {
   "cell_type": "markdown",
   "id": "12cc3c1e-5d1b-4c49-bee7-86f5a622fd04",
   "metadata": {},
   "source": [
    "To conduct an F-test for equality of variances, we use the following null and alternative hypotheses:\n",
    "\n",
    "H0: The variances of the waiting times at the two restaurants are equal.\n",
    "Ha: The variances of the waiting times at the two restaurants are not equal.\n",
    "\n",
    "We use the F-statistic to test the null hypothesis, which is defined as the ratio of the sample variances:\n",
    "\n",
    "F = s1^2 / s2^2\n",
    "\n",
    "where s1^2 and s2^2 are the sample variances from the waiting times at Restaurant A and Restaurant B, respectively.\n",
    "\n",
    "Under the null hypothesis, the F-statistic follows an F-distribution with degrees of freedom (df1, df2), where df1 = n1 - 1 and df2 = n2 - 1 are the degrees of freedom for the two samples.\n",
    "\n",
    "Using the given data, we can calculate the sample variances as follows:\n",
    "\n",
    "s1^2 = 8.95\n",
    "s2^2 = 7.2\n",
    "\n",
    "where n1 = 7 and n2 = 6.\n",
    "\n",
    "Next, we calculate the F-statistic as follows:\n",
    "\n",
    "F = s1^2 / s2^2 = 8.95 / 7.2 = 1.243\n",
    "\n",
    "Using a statistical table or calculator, we can find the critical value of F with df1 = 6 and df2 = 5 at the 5% significance level. The critical value of F is found to be 4.03.\n",
    "\n",
    "Since the calculated F-statistic of 1.243 is less than the critical value of 4.03, we fail to reject the null hypothesis. Therefore, we do not have sufficient evidence to conclude that the variances of the waiting times at the two restaurants are significantly different at the 5% significance level."
   ]
  },
  {
   "cell_type": "markdown",
   "id": "59bcad21-dd6a-47ca-a844-38f9757fd632",
   "metadata": {},
   "source": [
    "Q9. The following data represent the test scores of two groups of students: Group A: 80, 85, 90, 92, 87, 83;\n",
    "Group B: 75, 78, 82, 79, 81, 84. Conduct an F-test at the 1% significance level to determine if the variances\n",
    "are significantly different."
   ]
  },
  {
   "cell_type": "markdown",
   "id": "85db19b7-e58e-4a4d-b440-0ba9ee8eece6",
   "metadata": {},
   "source": [
    "conduct an F-test for equality of variances, we use the following null and alternative hypotheses:\n",
    "\n",
    "H0: The variances of the test scores of the two groups are equal.\n",
    "Ha: The variances of the test scores of the two groups are not equal.\n",
    "\n",
    "We use the F-statistic to test the null hypothesis, which is defined as the ratio of the sample variances:\n",
    "\n",
    "F = s1^2 / s2^2\n",
    "\n",
    "where s1^2 and s2^2 are the sample variances from Group A and Group B, respectively.\n",
    "\n",
    "Under the null hypothesis, the F-statistic follows an F-distribution with degrees of freedom (df1, df2), where df1 = n1 - 1 and df2 = n2 - 1 are the degrees of freedom for the two samples.\n",
    "\n",
    "Using the given data, we can calculate the sample variances as follows:\n",
    "\n",
    "s1^2 = 22.8\n",
    "s2^2 = 6.8\n",
    "\n",
    "where n1 = 6 and n2 = 6.\n",
    "\n",
    "Next, we calculate the F-statistic as follows:\n",
    "\n",
    "F = s1^2 / s2^2 = 22.8 / 6.8 = 3.353\n",
    "\n",
    "Using a statistical table or calculator, we can find the critical value of F with df1 = 5 and df2 = 5 at the 1% significance level. The critical value of F is found to be 6.94.\n",
    "\n",
    "Since the calculated F-statistic of 3.353 is less than the critical value of 6.94, we fail to reject the null hypothesis. Therefore, we do not have sufficient evidence to conclude that the variances of the test scores of the two groups are significantly different at the 1% significance level."
   ]
  },
  {
   "cell_type": "code",
   "execution_count": null,
   "id": "176a9210-0fcf-4e0b-9570-04bddf1fe6f3",
   "metadata": {},
   "outputs": [],
   "source": []
  }
 ],
 "metadata": {
  "kernelspec": {
   "display_name": "Python 3 (ipykernel)",
   "language": "python",
   "name": "python3"
  },
  "language_info": {
   "codemirror_mode": {
    "name": "ipython",
    "version": 3
   },
   "file_extension": ".py",
   "mimetype": "text/x-python",
   "name": "python",
   "nbconvert_exporter": "python",
   "pygments_lexer": "ipython3",
   "version": "3.10.8"
  }
 },
 "nbformat": 4,
 "nbformat_minor": 5
}
