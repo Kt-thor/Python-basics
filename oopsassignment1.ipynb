{
 "cells": [
  {
   "cell_type": "code",
   "execution_count": 1,
   "id": "19b1d5ab-d2fb-4c5c-b2aa-de30ece374ff",
   "metadata": {},
   "outputs": [],
   "source": [
    "# Ques 1:\n",
    "#class is the blue print of an object,which is structured ,methods defined to perform operations on similar kind \n",
    "#object is an instance of class which is a real world identity .all the operations are performed on the basis of class"
   ]
  },
  {
   "cell_type": "code",
   "execution_count": 2,
   "id": "31324e28-31d6-4ee8-b876-df1e632415e8",
   "metadata": {},
   "outputs": [],
   "source": [
    "# # Ques 2\n",
    "# # four piller of oops is\n",
    "# 1: Abstraction\n",
    "# 2: Polymorphism\n",
    "# 3: Encapsulation\n",
    "# 4: inheritance"
   ]
  },
  {
   "cell_type": "code",
   "execution_count": 3,
   "id": "01f648c1-bc21-4faa-87d8-20939d8c0094",
   "metadata": {},
   "outputs": [],
   "source": [
    "# self is a keyword that makes sense of variable passes from the object in the class\n",
    "# you can access to that variable by using the name of object followed by .variable name"
   ]
  },
  {
   "cell_type": "code",
   "execution_count": null,
   "id": "bd9f274e-fccb-4f18-b23c-8376f71ff26b",
   "metadata": {},
   "outputs": [],
   "source": []
  }
 ],
 "metadata": {
  "kernelspec": {
   "display_name": "Python 3 (ipykernel)",
   "language": "python",
   "name": "python3"
  },
  "language_info": {
   "codemirror_mode": {
    "name": "ipython",
    "version": 3
   },
   "file_extension": ".py",
   "mimetype": "text/x-python",
   "name": "python",
   "nbconvert_exporter": "python",
   "pygments_lexer": "ipython3",
   "version": "3.10.8"
  }
 },
 "nbformat": 4,
 "nbformat_minor": 5
}
