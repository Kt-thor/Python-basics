{
 "cells": [
  {
   "cell_type": "markdown",
   "id": "b77e11e7-3622-4dd1-8f8c-6a60c547f777",
   "metadata": {},
   "source": [
    "Q1. Create a Pandas Series that contains the following data: 4, 8, 15, 16, 23, and 42. Then, print the series."
   ]
  },
  {
   "cell_type": "code",
   "execution_count": 1,
   "id": "3baf0071-3eb8-48f1-a29e-78540250090c",
   "metadata": {},
   "outputs": [],
   "source": [
    "data = [4, 8, 15, 16, 23,42]"
   ]
  },
  {
   "cell_type": "code",
   "execution_count": 2,
   "id": "e224716c-cb3b-4316-86bc-0574cdbf67ea",
   "metadata": {},
   "outputs": [],
   "source": [
    "import pandas as pd"
   ]
  },
  {
   "cell_type": "code",
   "execution_count": 3,
   "id": "30e69f7c-ebcc-47d4-9c78-44b3cb6922ed",
   "metadata": {},
   "outputs": [
    {
     "data": {
      "text/plain": [
       "0     4\n",
       "1     8\n",
       "2    15\n",
       "3    16\n",
       "4    23\n",
       "5    42\n",
       "dtype: int64"
      ]
     },
     "execution_count": 3,
     "metadata": {},
     "output_type": "execute_result"
    }
   ],
   "source": [
    "pd.Series(data)"
   ]
  },
  {
   "cell_type": "markdown",
   "id": "85c1e824-98f5-4f3f-ada6-414c214fa779",
   "metadata": {},
   "source": [
    "Q2. Create a variable of list type containing 10 elements in it, and apply pandas.Series function on the\n",
    "variable print it."
   ]
  },
  {
   "cell_type": "code",
   "execution_count": 4,
   "id": "374a64cf-4fab-43c5-b5aa-2d8895eb6925",
   "metadata": {},
   "outputs": [
    {
     "data": {
      "text/plain": [
       "0      1\n",
       "1      4\n",
       "2      9\n",
       "3     16\n",
       "4     25\n",
       "5     36\n",
       "6     49\n",
       "7     64\n",
       "8     81\n",
       "9    100\n",
       "dtype: int64"
      ]
     },
     "execution_count": 4,
     "metadata": {},
     "output_type": "execute_result"
    }
   ],
   "source": [
    "data1 = [i**2 for i in range(1,11)]\n",
    "pd.Series(data1)"
   ]
  },
  {
   "cell_type": "markdown",
   "id": "037da052-705a-440e-a9e6-d3cf4079d26a",
   "metadata": {},
   "source": []
  },
  {
   "cell_type": "markdown",
   "id": "b5271981-9777-4f5b-bf9d-21487b459c9d",
   "metadata": {},
   "source": [
    "Q3. Create a Pandas DataFrame that contains the following data:\n",
    "    \n",
    "Name\n",
    "Alice\n",
    "Bob\n",
    "Claire\n",
    "\n",
    "Age\n",
    "25\n",
    "30\n",
    "27\n",
    "\n",
    "Gender\n",
    "Female\n",
    "Male\n",
    "Female"
   ]
  },
  {
   "cell_type": "code",
   "execution_count": 15,
   "id": "567582a4-cbfa-45bc-91ed-159633ab6ef0",
   "metadata": {},
   "outputs": [],
   "source": [
    "data3 = [[\"Name\",\"Age\",\"Gender\"],\n",
    "        [\"Alice\",\"BOB\",\"Claire\"],\n",
    "        [25,30,27],\n",
    "        [\"Female\",\"Male\",\"Female\"]]"
   ]
  },
  {
   "cell_type": "code",
   "execution_count": 23,
   "id": "b9334384-7710-4c8b-990a-e7b7c68c30f5",
   "metadata": {},
   "outputs": [
    {
     "data": {
      "text/html": [
       "<div>\n",
       "<style scoped>\n",
       "    .dataframe tbody tr th:only-of-type {\n",
       "        vertical-align: middle;\n",
       "    }\n",
       "\n",
       "    .dataframe tbody tr th {\n",
       "        vertical-align: top;\n",
       "    }\n",
       "\n",
       "    .dataframe thead th {\n",
       "        text-align: right;\n",
       "    }\n",
       "</style>\n",
       "<table border=\"1\" class=\"dataframe\">\n",
       "  <thead>\n",
       "    <tr style=\"text-align: right;\">\n",
       "      <th></th>\n",
       "      <th>0</th>\n",
       "      <th>1</th>\n",
       "      <th>2</th>\n",
       "    </tr>\n",
       "  </thead>\n",
       "  <tbody>\n",
       "    <tr>\n",
       "      <th>0</th>\n",
       "      <td>Name</td>\n",
       "      <td>Age</td>\n",
       "      <td>Gender</td>\n",
       "    </tr>\n",
       "    <tr>\n",
       "      <th>1</th>\n",
       "      <td>Alice</td>\n",
       "      <td>BOB</td>\n",
       "      <td>Claire</td>\n",
       "    </tr>\n",
       "    <tr>\n",
       "      <th>2</th>\n",
       "      <td>25</td>\n",
       "      <td>30</td>\n",
       "      <td>27</td>\n",
       "    </tr>\n",
       "    <tr>\n",
       "      <th>3</th>\n",
       "      <td>Female</td>\n",
       "      <td>Male</td>\n",
       "      <td>Female</td>\n",
       "    </tr>\n",
       "  </tbody>\n",
       "</table>\n",
       "</div>"
      ],
      "text/plain": [
       "        0     1       2\n",
       "0    Name   Age  Gender\n",
       "1   Alice   BOB  Claire\n",
       "2      25    30      27\n",
       "3  Female  Male  Female"
      ]
     },
     "execution_count": 23,
     "metadata": {},
     "output_type": "execute_result"
    }
   ],
   "source": [
    "data4 = pd.DataFrame(data3)\n",
    "data4"
   ]
  },
  {
   "cell_type": "markdown",
   "id": "37442c84-7fc4-4a57-b5fb-5b9395dd4847",
   "metadata": {},
   "source": [
    "Q4. What is ‘DataFrame’ in pandas and how is it different from pandas.series? Explain with an example."
   ]
  },
  {
   "cell_type": "markdown",
   "id": "9ba8251b-68cf-47a4-8b27-3fca46a13bb2",
   "metadata": {},
   "source": [
    "Series can only contain single list with index, whereas dataframe can be made of more than one series or we can say that a dataframe is a collection of series that can be used to analyse the data."
   ]
  },
  {
   "cell_type": "code",
   "execution_count": 24,
   "id": "9bac4190-da49-4e51-bb02-d2790b86cd66",
   "metadata": {},
   "outputs": [
    {
     "data": {
      "text/html": [
       "<div>\n",
       "<style scoped>\n",
       "    .dataframe tbody tr th:only-of-type {\n",
       "        vertical-align: middle;\n",
       "    }\n",
       "\n",
       "    .dataframe tbody tr th {\n",
       "        vertical-align: top;\n",
       "    }\n",
       "\n",
       "    .dataframe thead th {\n",
       "        text-align: right;\n",
       "    }\n",
       "</style>\n",
       "<table border=\"1\" class=\"dataframe\">\n",
       "  <thead>\n",
       "    <tr style=\"text-align: right;\">\n",
       "      <th></th>\n",
       "      <th>0</th>\n",
       "      <th>1</th>\n",
       "      <th>2</th>\n",
       "    </tr>\n",
       "  </thead>\n",
       "  <tbody>\n",
       "    <tr>\n",
       "      <th>0</th>\n",
       "      <td>Name</td>\n",
       "      <td>Age</td>\n",
       "      <td>Gender</td>\n",
       "    </tr>\n",
       "    <tr>\n",
       "      <th>1</th>\n",
       "      <td>Alice</td>\n",
       "      <td>BOB</td>\n",
       "      <td>Claire</td>\n",
       "    </tr>\n",
       "    <tr>\n",
       "      <th>2</th>\n",
       "      <td>25</td>\n",
       "      <td>30</td>\n",
       "      <td>27</td>\n",
       "    </tr>\n",
       "    <tr>\n",
       "      <th>3</th>\n",
       "      <td>Female</td>\n",
       "      <td>Male</td>\n",
       "      <td>Female</td>\n",
       "    </tr>\n",
       "  </tbody>\n",
       "</table>\n",
       "</div>"
      ],
      "text/plain": [
       "        0     1       2\n",
       "0    Name   Age  Gender\n",
       "1   Alice   BOB  Claire\n",
       "2      25    30      27\n",
       "3  Female  Male  Female"
      ]
     },
     "execution_count": 24,
     "metadata": {},
     "output_type": "execute_result"
    }
   ],
   "source": [
    "#this is dataframe\n",
    "data4"
   ]
  },
  {
   "cell_type": "code",
   "execution_count": 32,
   "id": "7440fb16-02c6-47c9-8cf5-5aa0612a2cd4",
   "metadata": {},
   "outputs": [
    {
     "data": {
      "text/plain": [
       "0      Name\n",
       "1     Alice\n",
       "2        25\n",
       "3    Female\n",
       "Name: 0, dtype: object"
      ]
     },
     "execution_count": 32,
     "metadata": {},
     "output_type": "execute_result"
    }
   ],
   "source": [
    "#series\n",
    "data4[0]"
   ]
  },
  {
   "cell_type": "markdown",
   "id": "1a37a5b6-a8cc-48c8-a583-c33f9d7f0dc1",
   "metadata": {},
   "source": [
    "Q5. What are some common functions you can use to manipulate data in a Pandas DataFrame? Can\n",
    "you give an example of when you might use one of these functions?"
   ]
  },
  {
   "cell_type": "markdown",
   "id": "d6164ba6-ddd1-4461-a3a4-14081a61f2b6",
   "metadata": {},
   "source": [
    "some common functions are :\n",
    "    1: read_csv()\n",
    "    \n",
    "    2: head()\n",
    "\n",
    "    3: describe()\n",
    "    \n",
    "    4: memory_usage()\n",
    "    \n",
    "    5: astype()\n",
    "    "
   ]
  },
  {
   "cell_type": "code",
   "execution_count": 37,
   "id": "46cc62b7-0696-422a-a503-a5a14939b611",
   "metadata": {},
   "outputs": [
    {
     "data": {
      "text/plain": [
       "Index    128\n",
       "0         32\n",
       "1         32\n",
       "2         32\n",
       "dtype: int64"
      ]
     },
     "execution_count": 37,
     "metadata": {},
     "output_type": "execute_result"
    }
   ],
   "source": [
    "data4.memory_usage()"
   ]
  },
  {
   "cell_type": "markdown",
   "id": "ecff4f4a-e45e-4c81-b02b-0af0fa433857",
   "metadata": {},
   "source": [
    "Q6. Which of the following is mutable in nature Series, DataFrame, Panel?\n",
    "\n",
    "\n",
    "Both Series and DataFrame are mutable in nature, while Panel is now deprecated in the latest version of Pandas, and its functionalities are replaced by other data structures like MultiIndex and Panel4D.\n",
    "\n",
    "In Pandas, the term mutable refers to the ability to modify the data elements of an object after it has been created. Both Series and DataFrame objects can be modified after creation by adding, deleting, or updating rows or columns. However, the object's index and column labels can also be modified, which makes them mutable in nature.\n",
    "\n",
    "For instance, to modify a DataFrame's column, we can use the following syntax:\n",
    "\n",
    "python\n",
    "\n",
    "\n",
    "\n",
    "df['column_name'] = new_values\n",
    "\n",
    "\n",
    "Similarly, to modify a Series, we can use the following syntax:\n",
    "\n",
    "python\n",
    "\n",
    "\n",
    "\n",
    "series_name[index] = new_value\n",
    "\n",
    "\n",
    "However, it is essential to note that some operations, such as reindexing, can create a new object instead of modifying the existing one."
   ]
  },
  {
   "cell_type": "markdown",
   "id": "2db2f8b5-e7b9-42e2-b932-4291204c38f8",
   "metadata": {},
   "source": [
    "Q7. Create a DataFrame using multiple Series. Explain with an example.\n",
    "\n",
    "In Pandas, we can create a DataFrame using multiple Series. Here is an example of how to create a DataFrame using two Series:"
   ]
  },
  {
   "cell_type": "code",
   "execution_count": 42,
   "id": "55499c7f-2808-4142-bc6f-69934253b7bc",
   "metadata": {},
   "outputs": [
    {
     "data": {
      "text/html": [
       "<div>\n",
       "<style scoped>\n",
       "    .dataframe tbody tr th:only-of-type {\n",
       "        vertical-align: middle;\n",
       "    }\n",
       "\n",
       "    .dataframe tbody tr th {\n",
       "        vertical-align: top;\n",
       "    }\n",
       "\n",
       "    .dataframe thead th {\n",
       "        text-align: right;\n",
       "    }\n",
       "</style>\n",
       "<table border=\"1\" class=\"dataframe\">\n",
       "  <thead>\n",
       "    <tr style=\"text-align: right;\">\n",
       "      <th></th>\n",
       "      <th>Name</th>\n",
       "      <th>Age</th>\n",
       "    </tr>\n",
       "  </thead>\n",
       "  <tbody>\n",
       "    <tr>\n",
       "      <th>0</th>\n",
       "      <td>John</td>\n",
       "      <td>30</td>\n",
       "    </tr>\n",
       "    <tr>\n",
       "      <th>1</th>\n",
       "      <td>Bob</td>\n",
       "      <td>25</td>\n",
       "    </tr>\n",
       "    <tr>\n",
       "      <th>2</th>\n",
       "      <td>Alice</td>\n",
       "      <td>35</td>\n",
       "    </tr>\n",
       "  </tbody>\n",
       "</table>\n",
       "</div>"
      ],
      "text/plain": [
       "    Name  Age\n",
       "0   John   30\n",
       "1    Bob   25\n",
       "2  Alice   35"
      ]
     },
     "execution_count": 42,
     "metadata": {},
     "output_type": "execute_result"
    }
   ],
   "source": [
    "import pandas as pd\n",
    "\n",
    "# create first series\n",
    "names = pd.Series(['John', 'Bob', 'Alice'])\n",
    "\n",
    "# create second series\n",
    "ages = pd.Series([30, 25, 35])\n",
    "\n",
    "#create third series\n",
    "\n",
    "gender = pd.Series([\"Male\",\"Male\",\"Female\"])\n",
    "\n",
    "# create a DataFrame using the two series\n",
    "df = pd.DataFrame({'Name': names, 'Age': ages})\n",
    "\n",
    "# display the DataFrame\n",
    "df\n"
   ]
  },
  {
   "cell_type": "code",
   "execution_count": null,
   "id": "9492ffac-3474-4fe8-bd34-2f7e1dced5ca",
   "metadata": {},
   "outputs": [],
   "source": []
  }
 ],
 "metadata": {
  "kernelspec": {
   "display_name": "Python 3 (ipykernel)",
   "language": "python",
   "name": "python3"
  },
  "language_info": {
   "codemirror_mode": {
    "name": "ipython",
    "version": 3
   },
   "file_extension": ".py",
   "mimetype": "text/x-python",
   "name": "python",
   "nbconvert_exporter": "python",
   "pygments_lexer": "ipython3",
   "version": "3.10.8"
  }
 },
 "nbformat": 4,
 "nbformat_minor": 5
}
