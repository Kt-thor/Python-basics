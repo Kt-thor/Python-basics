{
 "cells": [
  {
   "cell_type": "markdown",
   "id": "b67eb8ef-6116-44f3-b3a4-322b16c8ca42",
   "metadata": {},
   "source": [
    "Q1. You are writing code for a company. The requirement of the company is that you create a python\n",
    "function that will check whether the password entered by the user is correct or not. The function should\n",
    "take the password as input and return the string “Valid Password” if the entered password follows the\n",
    "below-given password guidelines else it should return “Invalid Password”.\n",
    "Note: \n",
    "1. The Password should contain at least two uppercase letters and at least two lowercase letters.\n",
    "\n",
    "2. The Password should contain at least a number and three special characters.\n",
    "\n",
    "3. The length of the password should be 10 characters long."
   ]
  },
  {
   "cell_type": "code",
   "execution_count": 80,
   "id": "775d8f37-eb67-4d0f-81ef-3200b5502a8f",
   "metadata": {},
   "outputs": [
    {
     "name": "stdin",
     "output_type": "stream",
     "text": [
      "Enter your password PrabhatTripathi@#$123\n"
     ]
    },
    {
     "name": "stdout",
     "output_type": "stream",
     "text": [
      "Valid Password\n"
     ]
    }
   ],
   "source": [
    "class Company :\n",
    "    def __init__(self,password):\n",
    "        self.pas = password\n",
    "    \n",
    "    def check_password(self):\n",
    "        flag = 0\n",
    "        if len(self.pas)>=10:\n",
    "            flag+=1\n",
    "            \n",
    "        #check if atleast two upper case letter\n",
    "        if len([i for i in self.pas if i.isupper()== True]) >= 2:\n",
    "            flag +=1\n",
    "            \n",
    "            \n",
    "        #check if atleast two lower case letter\n",
    "        if len([i for i in self.pas if i.islower()== True]) >= 2:\n",
    "            flag+=1\n",
    "            \n",
    "            \n",
    "            \n",
    "        #check if three special case charectore\n",
    "        if len([i for i in self.pas if i.isalnum() == False])>=3:\n",
    "            flag+=1\n",
    "            \n",
    "            \n",
    "            \n",
    "        #check if atleast 1 digit is present\n",
    "        if sum([i.isdigit() for i in given_str]) >=1:\n",
    "            flag+=1\n",
    "            \n",
    "            \n",
    "            \n",
    "        if flag == 5:\n",
    "            print(\"Valid Password\")\n",
    "        else:\n",
    "            print(\"Invaid Password\")\n",
    "            \n",
    "        \n",
    "        \n",
    "        \n",
    "password = input(\"Enter your password\")\n",
    "p = Company(password)\n",
    "p.check_password()"
   ]
  },
  {
   "cell_type": "markdown",
   "id": "6d64cbf3-06d4-40a6-8481-8b282c6241b7",
   "metadata": {},
   "source": [
    "Q2. Solve the below-given questions using at least one of the following:\n",
    "    \n",
    "1. Lambda function\n",
    "\n",
    "2. Filter function\n",
    "\n",
    "3. map function\n",
    "\n",
    "4. List Comprehension\n",
    "\n",
    "B Check if the string starts with a particular letter\n",
    "\n",
    "B Check if the string is numeric\n",
    "\n",
    "B Sort a list of tuples having fruit names and their quantity. [(\"mango\",99),(\"orange\",80), (\"grapes\", 1000)]\n",
    "\n",
    "B Find the squares of numbers from 1 to 10 Find the cube root of numbers from 1 to 10\n",
    "\n",
    "B Check if a given number is even\n",
    "\n",
    "B Filter odd numbers from the given list.\n",
    "[1,2,3,4,5,6,7,8,9,10]\n",
    "\n",
    "B Sort a list of integers into positive and negative integers lists.\n",
    "[1,2,3,4,5,6,-1,-2,-3,-4,-5,0]"
   ]
  },
  {
   "cell_type": "code",
   "execution_count": 86,
   "id": "258c837c-fb80-4c29-9898-bcc87a1e4549",
   "metadata": {},
   "outputs": [
    {
     "name": "stdin",
     "output_type": "stream",
     "text": [
      "Enter the string 123\n"
     ]
    }
   ],
   "source": [
    "string = input(\"Enter the string\")"
   ]
  },
  {
   "cell_type": "code",
   "execution_count": 87,
   "id": "904264b2-0a3e-46bd-b644-b2aa171ddcbf",
   "metadata": {
    "tags": []
   },
   "outputs": [
    {
     "data": {
      "text/plain": [
       "False"
      ]
     },
     "execution_count": 87,
     "metadata": {},
     "output_type": "execute_result"
    }
   ],
   "source": [
    " # Check if the string starts with a particular letter\n",
    "string[0].isalpha()"
   ]
  },
  {
   "cell_type": "code",
   "execution_count": 88,
   "id": "65042e85-6ad5-4dea-a6c2-23d0e1fbe871",
   "metadata": {},
   "outputs": [
    {
     "data": {
      "text/plain": [
       "True"
      ]
     },
     "execution_count": 88,
     "metadata": {},
     "output_type": "execute_result"
    }
   ],
   "source": [
    " # Check if the string is numeric\n",
    "string.isnumeric()"
   ]
  },
  {
   "cell_type": "code",
   "execution_count": 149,
   "id": "bdbe0ac1-62ca-41ae-ae87-f5b2ba1d4bc7",
   "metadata": {},
   "outputs": [
    {
     "data": {
      "text/plain": [
       "[('grapes', 1000), ('mango', 99), ('orange', 80)]"
      ]
     },
     "execution_count": 149,
     "metadata": {},
     "output_type": "execute_result"
    }
   ],
   "source": [
    "# Sort a list of tuples having fruit names and their quantity. [(\"mango\",99),(\"orange\",80), (\"grapes\", 1000)]\n",
    "x = [(\"mango\",99),(\"orange\",80), (\"grapes\", 1000)]\n",
    "\n",
    "sorted(x)\n"
   ]
  },
  {
   "cell_type": "code",
   "execution_count": 92,
   "id": "3c95aefe-aab3-422f-9813-88a3d6c80555",
   "metadata": {},
   "outputs": [
    {
     "data": {
      "text/plain": [
       "([1, 4, 9, 16, 25, 36, 49, 64, 81], [1, 8, 27, 64, 125, 216, 343, 512, 729])"
      ]
     },
     "execution_count": 92,
     "metadata": {},
     "output_type": "execute_result"
    }
   ],
   "source": [
    "# Find the squares of numbers from 1 to 10 \n",
    "# Find the cube root of numbers from 1 to 10\n",
    "squares = [i**2 for i in range(1,10)]\n",
    "cube = [i**3 for i in range(1,10)]\n",
    "squares,cube"
   ]
  },
  {
   "cell_type": "code",
   "execution_count": 106,
   "id": "178bc2e1-4fd5-4749-b4d9-5838578e4570",
   "metadata": {},
   "outputs": [
    {
     "name": "stdin",
     "output_type": "stream",
     "text": [
      "Enter the string of number to check even odd 12745493276634\n"
     ]
    },
    {
     "name": "stdout",
     "output_type": "stream",
     "text": [
      "even ['2', '4', '4', '2', '6', '6', '4']\n",
      "odd ['1', '7', '5', '9', '3', '7', '3']\n"
     ]
    }
   ],
   "source": [
    "num =input('Enter the string of number to check even odd')\n",
    "a = list(filter(lambda x : int(x)%2 == 0,num))\n",
    "b = list(filter(lambda x : int(x)%2 != 0,num))\n",
    "print('even',a)\n",
    "print('odd',b)"
   ]
  },
  {
   "cell_type": "code",
   "execution_count": 110,
   "id": "964fb53a-2feb-4498-9216-8fe7c3bc86ab",
   "metadata": {},
   "outputs": [
    {
     "data": {
      "text/plain": [
       "[1, 3, 5, 7, 9]"
      ]
     },
     "execution_count": 110,
     "metadata": {},
     "output_type": "execute_result"
    }
   ],
   "source": [
    "# Filter odd numbers from the given list. [1,2,3,4,5,6,7,8,9,10]\n",
    "list(filter(lambda x : int(x)%2 != 0,[1,2,3,4,5,6,7,8,9,10]))"
   ]
  },
  {
   "cell_type": "code",
   "execution_count": 137,
   "id": "b51d1b3f-b205-43dc-bdd3-a089271c5b6d",
   "metadata": {},
   "outputs": [],
   "source": [
    "# Sort a list of integers into positive and negative integers lists. [1,2,3,4,5,6,-1,-2,-3,-4,-5,0]\n",
    "negative = list(filter(lambda x : x<0,[1,2,3,4,5,6,-1,-2,-3,-4,-5,0]))\n",
    "negative.sort()"
   ]
  },
  {
   "cell_type": "code",
   "execution_count": 138,
   "id": "e5c70e47-9a60-41a8-b905-d07e6a9d447e",
   "metadata": {},
   "outputs": [
    {
     "data": {
      "text/plain": [
       "[-5, -4, -3, -2, -1]"
      ]
     },
     "execution_count": 138,
     "metadata": {},
     "output_type": "execute_result"
    }
   ],
   "source": [
    "negative"
   ]
  },
  {
   "cell_type": "code",
   "execution_count": 143,
   "id": "e79854d4-6a91-4b2f-9918-cf5321fe90b7",
   "metadata": {},
   "outputs": [],
   "source": [
    "positive = list(filter(lambda x : x>=0,[1,2,3,4,5,6,-1,-2,-3,-4,-5,0]))\n",
    "positive.sort()"
   ]
  },
  {
   "cell_type": "code",
   "execution_count": 144,
   "id": "d4dd6de8-7a64-42fe-a6e5-07cd21557d45",
   "metadata": {},
   "outputs": [
    {
     "data": {
      "text/plain": [
       "[0, 1, 2, 3, 4, 5, 6]"
      ]
     },
     "execution_count": 144,
     "metadata": {},
     "output_type": "execute_result"
    }
   ],
   "source": [
    "positive"
   ]
  },
  {
   "cell_type": "code",
   "execution_count": null,
   "id": "9fb53656-b4ed-4a34-9318-7a1493b2caf3",
   "metadata": {},
   "outputs": [],
   "source": []
  }
 ],
 "metadata": {
  "kernelspec": {
   "display_name": "Python 3 (ipykernel)",
   "language": "python",
   "name": "python3"
  },
  "language_info": {
   "codemirror_mode": {
    "name": "ipython",
    "version": 3
   },
   "file_extension": ".py",
   "mimetype": "text/x-python",
   "name": "python",
   "nbconvert_exporter": "python",
   "pygments_lexer": "ipython3",
   "version": "3.10.8"
  }
 },
 "nbformat": 4,
 "nbformat_minor": 5
}
